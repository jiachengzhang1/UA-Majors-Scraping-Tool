{
 "cells": [
  {
   "cell_type": "markdown",
   "metadata": {},
   "source": [
    "# <center>College of Science Curricula - University of Arizona</center>\n",
    "\n",
    "This notebook contains a prelmininary analyses of the curricula and degree plans associatedwith the undergradatue programs in the College of Science at the University of Arizona. In order to execute the analyses provided in this notebook, you need to load the following Julia packages:"
   ]
  },
  {
   "cell_type": "code",
   "execution_count": 1,
   "metadata": {},
   "outputs": [
    {
     "data": {
      "text/html": [
       "<script>\n",
       "// Immediately-invoked-function-expression to avoid global variables.\n",
       "(function() {\n",
       "    var warning_div = document.getElementById(\"webio-warning-13108608198809105883\");\n",
       "    var hide = function () {\n",
       "        var script = document.getElementById(\"webio-setup-332387515328944300\");\n",
       "        var parent = script && script.parentElement;\n",
       "        var grandparent = parent && parent.parentElement;\n",
       "        if (grandparent) {\n",
       "            grandparent.style.display = \"none\";\n",
       "        }\n",
       "        warning_div.style.display = \"none\";\n",
       "    };\n",
       "    if (typeof Jupyter !== \"undefined\") {\n",
       "        console.log(\"WebIO detected Jupyter notebook environment.\");\n",
       "        // Jupyter notebook.\n",
       "        var extensions = (\n",
       "            Jupyter\n",
       "            && Jupyter.notebook.config.data\n",
       "            && Jupyter.notebook.config.data.load_extensions\n",
       "        );\n",
       "        if (extensions && extensions[\"webio-jupyter-notebook\"]) {\n",
       "            // Extension already loaded.\n",
       "            console.log(\"Jupyter WebIO nbextension detected; not loading ad-hoc.\");\n",
       "            hide();\n",
       "            return;\n",
       "        }\n",
       "    } else if (window.location.pathname.includes(\"/lab\")) {\n",
       "        // Guessing JupyterLa\n",
       "        console.log(\"Jupyter Lab detected; make sure the @webio/jupyter-lab-provider labextension is installed.\");\n",
       "        hide();\n",
       "        return;\n",
       "    }\n",
       "})();\n",
       "\n",
       "</script>\n",
       "<p\n",
       "    id=\"webio-warning-13108608198809105883\"\n",
       "    class=\"output_text output_stderr\"\n",
       "    style=\"padding: 1em; font-weight: bold;\"\n",
       ">\n",
       "    Unable to load WebIO. Please make sure WebIO works for your Jupyter client.\n",
       "    For troubleshooting, please see <a href=\"https://juliagizmos.github.io/WebIO.jl/latest/providers/ijulia/\">\n",
       "    the WebIO/IJulia documentation</a>.\n",
       "    <!-- TODO: link to installation docs. -->\n",
       "</p>\n"
      ],
      "text/plain": [
       "HTML{String}(\"<script>\\n// Immediately-invoked-function-expression to avoid global variables.\\n(function() {\\n    var warning_div = document.getElementById(\\\"webio-warning-13108608198809105883\\\");\\n    var hide = function () {\\n        var script = document.getElementById(\\\"webio-setup-332387515328944300\\\");\\n        var parent = script && script.parentElement;\\n        var grandparent = parent && parent.parentElement;\\n        if (grandparent) {\\n            grandparent.style.display = \\\"none\\\";\\n        }\\n        warning_div.style.display = \\\"none\\\";\\n    };\\n    if (typeof Jupyter !== \\\"undefined\\\") {\\n        console.log(\\\"WebIO detected Jupyter notebook environment.\\\");\\n        // Jupyter notebook.\\n        var extensions = (\\n            Jupyter\\n            && Jupyter.notebook.config.data\\n            && Jupyter.notebook.config.data.load_extensions\\n        );\\n        if (extensions && extensions[\\\"webio-jupyter-notebook\\\"]) {\\n            // Extension already loaded.\\n            console.log(\\\"Jupyter WebIO nbextension detected; not loading ad-hoc.\\\");\\n            hide();\\n            return;\\n        }\\n    } else if (window.location.pathname.includes(\\\"/lab\\\")) {\\n        // Guessing JupyterLa\\n        console.log(\\\"Jupyter Lab detected; make sure the @webio/jupyter-lab-provider labextension is installed.\\\");\\n        hide();\\n        return;\\n    }\\n})();\\n\\n</script>\\n<p\\n    id=\\\"webio-warning-13108608198809105883\\\"\\n    class=\\\"output_text output_stderr\\\"\\n    style=\\\"padding: 1em; font-weight: bold;\\\"\\n>\\n    Unable to load WebIO. Please make sure WebIO works for your Jupyter client.\\n    For troubleshooting, please see <a href=\\\"https://juliagizmos.github.io/WebIO.jl/latest/providers/ijulia/\\\">\\n    the WebIO/IJulia documentation</a>.\\n    <!-- TODO: link to installation docs. -->\\n</p>\\n\")"
      ]
     },
     "metadata": {},
     "output_type": "display_data"
    }
   ],
   "source": [
    "using CurricularAnalytics\n",
    "using Glob\n",
    "using CSV\n",
    "using DataFrames\n",
    "using Statistics"
   ]
  },
  {
   "cell_type": "markdown",
   "metadata": {},
   "source": [
    "## Curricular Analytics Toolbox\n",
    "\n",
    "The analyses in this notebook makes use of the Curricular Analytics toolbox built using the Julia programming language and available as open source software [1]. As a starting point, you may find it useful to read the toolbox documenation, as well as the curricular analytics paper listed in the References section below [2].\n",
    "\n",
    "### Create the Data Structures\n",
    "Degree plans associated with four different disciplines (animal science, mechanical engineering, music education, and psychology) were collected from each of the eleven schools in the cluster. The degree plans were stored as CSV files using the format for degree plans specified in the Curricular Analytics toolbox.  The files are organized in a directory structure that is assumed to be in the same directory as this notebook as follows:  `./programs/<college-name>/`\n",
    "\n",
    "Asuuming the aforementioned directory structure, we first create an dictionay called `plans` containing the degree plans for each of the programs in a given college, in this case the College of Science."
   ]
  },
  {
   "cell_type": "code",
   "execution_count": 2,
   "metadata": {},
   "outputs": [],
   "source": [
    "college = \"college_of_science\"\n",
    "plans = Dict{String, DegreePlan}()\n",
    "program_files = glob(\"*\", \"./programs/$college\")\n",
    "for program in program_files\n",
    "    dp = read_csv(program)\n",
    "    complexity(dp.curriculum)  # compute the curricular complexity of the degree plan\n",
    "    plans[dp.curriculum.name] = dp    # store the degree plan the dictionary\n",
    "end"
   ]
  },
  {
   "cell_type": "code",
   "execution_count": null,
   "metadata": {},
   "outputs": [],
   "source": [
    "Applied_Physics__ISSUE_FILE_plan = plans[\"Applied Physics__ISSUE_FILE\"]\n",
    "visualize(Applied_Physics__ISSUE_FILE_plan, notebook=true)"
   ]
  },
  {
   "cell_type": "code",
   "execution_count": null,
   "metadata": {},
   "outputs": [],
   "source": [
    "Astronomy_plan = plans[\"Astronomy\"]\n",
    "visualize(Astronomy_plan, notebook=true)"
   ]
  },
  {
   "cell_type": "code",
   "execution_count": null,
   "metadata": {},
   "outputs": [],
   "source": [
    "Biochemistry_plan = plans[\"Biochemistry\"]\n",
    "visualize(Biochemistry_plan, notebook=true)"
   ]
  },
  {
   "cell_type": "code",
   "execution_count": null,
   "metadata": {},
   "outputs": [],
   "source": [
    "Biochemistry_plan = plans[\"Biochemistry\"]\n",
    "visualize(Biochemistry_plan, notebook=true)"
   ]
  },
  {
   "cell_type": "code",
   "execution_count": null,
   "metadata": {},
   "outputs": [],
   "source": [
    "Bioinformatics_Computer_Science_Emphasis_plan = plans[\"Bioinformatics Computer Science Emphasis\"]\n",
    "visualize(Bioinformatics_Computer_Science_Emphasis_plan, notebook=true)"
   ]
  },
  {
   "cell_type": "code",
   "execution_count": null,
   "metadata": {},
   "outputs": [],
   "source": [
    "Bioinformatics_Ecology_and_Evolutionary_Biology_Emphasis_plan = plans[\"Bioinformatics Ecology and Evolutionary Biology Emphasis\"]\n",
    "visualize(Bioinformatics_Ecology_and_Evolutionary_Biology_Emphasis_plan, notebook=true)"
   ]
  },
  {
   "cell_type": "code",
   "execution_count": null,
   "metadata": {},
   "outputs": [],
   "source": [
    "Bioinformatics_Molecular_and_Cellular_Biology_Emphasis_plan = plans[\"Bioinformatics Molecular and Cellular Biology Emphasis\"]\n",
    "visualize(Bioinformatics_Molecular_and_Cellular_Biology_Emphasis_plan, notebook=true)"
   ]
  },
  {
   "cell_type": "code",
   "execution_count": null,
   "metadata": {},
   "outputs": [],
   "source": [
    "Bioinformatics_Systems_Biology_Emphasis_plan = plans[\"Bioinformatics Systems Biology Emphasis\"]\n",
    "visualize(Bioinformatics_Systems_Biology_Emphasis_plan, notebook=true)"
   ]
  },
  {
   "cell_type": "code",
   "execution_count": null,
   "metadata": {},
   "outputs": [],
   "source": [
    "Biology_Biomedical_Sciences_Emphasis_plan = plans[\"Biology Biomedical Sciences Emphasis\"]\n",
    "visualize(Biology_Biomedical_Sciences_Emphasis_plan, notebook=true)"
   ]
  },
  {
   "cell_type": "code",
   "execution_count": null,
   "metadata": {},
   "outputs": [],
   "source": [
    "Biology_Organismal_Biology_Emphasis_plan = plans[\"Biology Organismal Biology Emphasis\"]\n",
    "visualize(Biology_Organismal_Biology_Emphasis_plan, notebook=true)"
   ]
  },
  {
   "cell_type": "code",
   "execution_count": null,
   "metadata": {},
   "outputs": [],
   "source": [
    "Chemistry_plan = plans[\"Chemistry\"]\n",
    "visualize(Chemistry_plan, notebook=true)"
   ]
  },
  {
   "cell_type": "code",
   "execution_count": null,
   "metadata": {},
   "outputs": [],
   "source": [
    "Chemistry_plan = plans[\"Chemistry\"]\n",
    "visualize(Chemistry_plan, notebook=true)"
   ]
  },
  {
   "cell_type": "code",
   "execution_count": null,
   "metadata": {},
   "outputs": [],
   "source": [
    "Computer_Science_plan = plans[\"Computer Science\"]\n",
    "visualize(Computer_Science_plan, notebook=true)"
   ]
  },
  {
   "cell_type": "code",
   "execution_count": null,
   "metadata": {},
   "outputs": [],
   "source": [
    "Computer_Science_plan = plans[\"Computer Science\"]\n",
    "visualize(Computer_Science_plan, notebook=true)"
   ]
  },
  {
   "cell_type": "code",
   "execution_count": null,
   "metadata": {},
   "outputs": [],
   "source": [
    "Ecology_and_Evolutionary_Biology_plan = plans[\"Ecology and Evolutionary Biology\"]\n",
    "visualize(Ecology_and_Evolutionary_Biology_plan, notebook=true)"
   ]
  },
  {
   "cell_type": "code",
   "execution_count": null,
   "metadata": {},
   "outputs": [],
   "source": [
    "Ecology_and_Evolutionary_Biology_plan = plans[\"Ecology and Evolutionary Biology\"]\n",
    "visualize(Ecology_and_Evolutionary_Biology_plan, notebook=true)"
   ]
  },
  {
   "cell_type": "code",
   "execution_count": null,
   "metadata": {},
   "outputs": [],
   "source": [
    "Geosciences_Earth_Ocean_and_Climate_Emphasis_plan = plans[\"Geosciences Earth Ocean and Climate Emphasis\"]\n",
    "visualize(Geosciences_Earth_Ocean_and_Climate_Emphasis_plan, notebook=true)"
   ]
  },
  {
   "cell_type": "code",
   "execution_count": null,
   "metadata": {},
   "outputs": [],
   "source": [
    "Geosciences_Geology_Emphasis_plan = plans[\"Geosciences Geology Emphasis\"]\n",
    "visualize(Geosciences_Geology_Emphasis_plan, notebook=true)"
   ]
  },
  {
   "cell_type": "code",
   "execution_count": null,
   "metadata": {},
   "outputs": [],
   "source": [
    "Geosciences_Geophysics_Emphasis_plan = plans[\"Geosciences Geophysics Emphasis\"]\n",
    "visualize(Geosciences_Geophysics_Emphasis_plan, notebook=true)"
   ]
  },
  {
   "cell_type": "code",
   "execution_count": null,
   "metadata": {},
   "outputs": [],
   "source": [
    "Hydrology_and_Atmospheric_Sciences_Atmospheric_Sciences_Emphasis__ISSUE_FILE_plan = plans[\"Hydrology and Atmospheric Sciences Atmospheric Sciences Emphasis__ISSUE_FILE\"]\n",
    "visualize(Hydrology_and_Atmospheric_Sciences_Atmospheric_Sciences_Emphasis__ISSUE_FILE_plan, notebook=true)"
   ]
  },
  {
   "cell_type": "code",
   "execution_count": null,
   "metadata": {},
   "outputs": [],
   "source": [
    "Hydrology_and_Atmospheric_Sciences_Environmental_Hydrology_and_Water_Resources_Emphasis_plan = plans[\"Hydrology and Atmospheric Sciences Environmental Hydrology and Water Resources Emphasis\"]\n",
    "visualize(Hydrology_and_Atmospheric_Sciences_Environmental_Hydrology_and_Water_Resources_Emphasis_plan, notebook=true)"
   ]
  },
  {
   "cell_type": "code",
   "execution_count": null,
   "metadata": {},
   "outputs": [],
   "source": [
    "Mathematics_Applied_Emphasis_plan = plans[\"Mathematics Applied Emphasis\"]\n",
    "visualize(Mathematics_Applied_Emphasis_plan, notebook=true)"
   ]
  },
  {
   "cell_type": "code",
   "execution_count": null,
   "metadata": {},
   "outputs": [],
   "source": [
    "Mathematics_Applied_Emphasis_plan = plans[\"Mathematics Applied Emphasis\"]\n",
    "visualize(Mathematics_Applied_Emphasis_plan, notebook=true)"
   ]
  },
  {
   "cell_type": "code",
   "execution_count": null,
   "metadata": {},
   "outputs": [],
   "source": [
    "Mathematics_Comprehensive_Emphasis_plan = plans[\"Mathematics Comprehensive Emphasis\"]\n",
    "visualize(Mathematics_Comprehensive_Emphasis_plan, notebook=true)"
   ]
  },
  {
   "cell_type": "code",
   "execution_count": null,
   "metadata": {},
   "outputs": [],
   "source": [
    "Mathematics_Comprehensive_Emphasis_plan = plans[\"Mathematics Comprehensive Emphasis\"]\n",
    "visualize(Mathematics_Comprehensive_Emphasis_plan, notebook=true)"
   ]
  },
  {
   "cell_type": "code",
   "execution_count": null,
   "metadata": {},
   "outputs": [],
   "source": [
    "Mathematics_Computer_Science_Emphasis_plan = plans[\"Mathematics Computer Science Emphasis\"]\n",
    "visualize(Mathematics_Computer_Science_Emphasis_plan, notebook=true)"
   ]
  },
  {
   "cell_type": "code",
   "execution_count": null,
   "metadata": {},
   "outputs": [],
   "source": [
    "Mathematics_Computer_Science_Emphasis_plan = plans[\"Mathematics Computer Science Emphasis\"]\n",
    "visualize(Mathematics_Computer_Science_Emphasis_plan, notebook=true)"
   ]
  },
  {
   "cell_type": "code",
   "execution_count": null,
   "metadata": {},
   "outputs": [],
   "source": [
    "Mathematics_Economics_and_Business_Emphasis_plan = plans[\"Mathematics Economics and Business Emphasis\"]\n",
    "visualize(Mathematics_Economics_and_Business_Emphasis_plan, notebook=true)"
   ]
  },
  {
   "cell_type": "code",
   "execution_count": null,
   "metadata": {},
   "outputs": [],
   "source": [
    "Mathematics_Economics_and_Business_Emphasis_plan = plans[\"Mathematics Economics and Business Emphasis\"]\n",
    "visualize(Mathematics_Economics_and_Business_Emphasis_plan, notebook=true)"
   ]
  },
  {
   "cell_type": "code",
   "execution_count": null,
   "metadata": {},
   "outputs": [],
   "source": [
    "Mathematics_Education_Emphasis_plan = plans[\"Mathematics Education Emphasis\"]\n",
    "visualize(Mathematics_Education_Emphasis_plan, notebook=true)"
   ]
  },
  {
   "cell_type": "code",
   "execution_count": null,
   "metadata": {},
   "outputs": [],
   "source": [
    "Mathematics_Education_Emphasis_plan = plans[\"Mathematics Education Emphasis\"]\n",
    "visualize(Mathematics_Education_Emphasis_plan, notebook=true)"
   ]
  },
  {
   "cell_type": "code",
   "execution_count": null,
   "metadata": {},
   "outputs": [],
   "source": [
    "Mathematics_Life_Sciences_Emphasis_plan = plans[\"Mathematics Life Sciences Emphasis\"]\n",
    "visualize(Mathematics_Life_Sciences_Emphasis_plan, notebook=true)"
   ]
  },
  {
   "cell_type": "code",
   "execution_count": null,
   "metadata": {},
   "outputs": [],
   "source": [
    "Mathematics_Life_Sciences_Emphasis_plan = plans[\"Mathematics Life Sciences Emphasis\"]\n",
    "visualize(Mathematics_Life_Sciences_Emphasis_plan, notebook=true)"
   ]
  },
  {
   "cell_type": "code",
   "execution_count": null,
   "metadata": {},
   "outputs": [],
   "source": [
    "Mathematics_Probability_and_Statistics_Emphasis_plan = plans[\"Mathematics Probability and Statistics Emphasis\"]\n",
    "visualize(Mathematics_Probability_and_Statistics_Emphasis_plan, notebook=true)"
   ]
  },
  {
   "cell_type": "code",
   "execution_count": null,
   "metadata": {},
   "outputs": [],
   "source": [
    "Mathematics_Probability_and_Statistics_Emphasis_plan = plans[\"Mathematics Probability and Statistics Emphasis\"]\n",
    "visualize(Mathematics_Probability_and_Statistics_Emphasis_plan, notebook=true)"
   ]
  },
  {
   "cell_type": "code",
   "execution_count": null,
   "metadata": {},
   "outputs": [],
   "source": [
    "Molecular_and_Cellular_Biology_plan = plans[\"Molecular and Cellular Biology\"]\n",
    "visualize(Molecular_and_Cellular_Biology_plan, notebook=true)"
   ]
  },
  {
   "cell_type": "code",
   "execution_count": null,
   "metadata": {},
   "outputs": [],
   "source": [
    "Molecular_and_Cellular_Biology_Education_and_Communication_Emphasis_plan = plans[\"Molecular and Cellular Biology Education and Communication Emphasis\"]\n",
    "visualize(Molecular_and_Cellular_Biology_Education_and_Communication_Emphasis_plan, notebook=true)"
   ]
  },
  {
   "cell_type": "code",
   "execution_count": null,
   "metadata": {},
   "outputs": [],
   "source": [
    "Molecular_and_Cellular_Biology_Genetics_and_Human_Health_Emphasis__ISSUE_FILE_plan = plans[\"Molecular and Cellular Biology Genetics and Human Health Emphasis__ISSUE_FILE\"]\n",
    "visualize(Molecular_and_Cellular_Biology_Genetics_and_Human_Health_Emphasis__ISSUE_FILE_plan, notebook=true)"
   ]
  },
  {
   "cell_type": "code",
   "execution_count": null,
   "metadata": {},
   "outputs": [],
   "source": [
    "Molecular_and_Cellular_Biology_Systems_and_Big_Data_Biology_Emphasis__ISSUE_FILE_plan = plans[\"Molecular and Cellular Biology Systems and Big Data Biology Emphasis__ISSUE_FILE\"]\n",
    "visualize(Molecular_and_Cellular_Biology_Systems_and_Big_Data_Biology_Emphasis__ISSUE_FILE_plan, notebook=true)"
   ]
  },
  {
   "cell_type": "code",
   "execution_count": 3,
   "metadata": {},
   "outputs": [
    {
     "data": {
      "application/vnd.webio.node+json": {
       "children": [
        {
         "children": [
          ""
         ],
         "instanceArgs": {
          "namespace": "html",
          "tag": "iframe"
         },
         "nodeType": "DOM",
         "props": {
          "events": {
           "load": "(function (){this.contentWindow.postMessage({\"options\":{\"hideTerms\":false,\"edit\":false},\"curriculum\":{\"name\":\"Neuroscience and Cognitive Science\",\"dp_name\":\"2019-20 Degree Plan\",\"curriculum_terms\":[{\"name\":\"Term 1\",\"curriculum_items\":[{\"curriculum_requisites\":[],\"name\":\"ENGL 101\",\"metrics\":{\"complexity\":3.0,\"centrality\":0,\"blocking factor\":1,\"delay factor\":2.0},\"nameSub\":\"First-Year Composition\",\"id\":1,\"credits\":3,\"nameCanonical\":\"\"},{\"curriculum_requisites\":[],\"name\":\" \",\"metrics\":{\"complexity\":1.0,\"centrality\":0,\"blocking factor\":0,\"delay factor\":1.0},\"nameSub\":\"Second Language\",\"id\":2,\"credits\":4,\"nameCanonical\":\"\"},{\"curriculum_requisites\":[],\"name\":\" \",\"metrics\":{\"complexity\":1.0,\"centrality\":0,\"blocking factor\":0,\"delay factor\":1.0},\"nameSub\":\"First-Semester Chemistry\",\"id\":3,\"credits\":4,\"nameCanonical\":\"\"},{\"curriculum_requisites\":[],\"name\":\"MATH 122A/B\",\"metrics\":{\"complexity\":1.0,\"centrality\":0,\"blocking factor\":0,\"delay factor\":1.0},\"nameSub\":\"Calculus I\",\"id\":4,\"credits\":4,\"nameCanonical\":\"\"}],\"id\":1},{\"name\":\"Term 2\",\"curriculum_items\":[{\"curriculum_requisites\":[{\"source_id\":1,\"target_id\":5,\"type\":\"CurriculumPrerequisite\"}],\"name\":\"ENGL 102\",\"metrics\":{\"complexity\":2.0,\"centrality\":0,\"blocking factor\":0,\"delay factor\":2.0},\"nameSub\":\"First-Year Composition\",\"id\":5,\"credits\":3,\"nameCanonical\":\"\"},{\"curriculum_requisites\":[],\"name\":\" \",\"metrics\":{\"complexity\":1.0,\"centrality\":0,\"blocking factor\":0,\"delay factor\":1.0},\"nameSub\":\"Second Language\",\"id\":6,\"credits\":4,\"nameCanonical\":\"\"},{\"curriculum_requisites\":[],\"name\":\" \",\"metrics\":{\"complexity\":1.0,\"centrality\":0,\"blocking factor\":0,\"delay factor\":1.0},\"nameSub\":\"Tier I General Education\",\"id\":7,\"credits\":3,\"nameCanonical\":\"\"},{\"curriculum_requisites\":[],\"name\":\" \",\"metrics\":{\"complexity\":1.0,\"centrality\":0,\"blocking factor\":0,\"delay factor\":1.0},\"nameSub\":\"Foundation Focus\",\"id\":8,\"credits\":3,\"nameCanonical\":\"\"}],\"id\":2},{\"name\":\"Term 3\",\"curriculum_items\":[{\"curriculum_requisites\":[],\"name\":\"MCB 181R\",\"metrics\":{\"complexity\":8.0,\"centrality\":0,\"blocking factor\":5,\"delay factor\":3.0},\"nameSub\":\"Introductory Biology I\",\"id\":9,\"credits\":3,\"nameCanonical\":\"\"},{\"curriculum_requisites\":[],\"name\":\"MCB 181L\",\"metrics\":{\"complexity\":5.0,\"centrality\":0,\"blocking factor\":2,\"delay factor\":3.0},\"nameSub\":\"Introductory Biology Laboratory I\",\"id\":10,\"credits\":1,\"nameCanonical\":\"\"},{\"curriculum_requisites\":[],\"name\":\" \",\"metrics\":{\"complexity\":1.0,\"centrality\":0,\"blocking factor\":0,\"delay factor\":1.0},\"nameSub\":\"Statistics\",\"id\":11,\"credits\":3,\"nameCanonical\":\"\"},{\"curriculum_requisites\":[],\"name\":\" \",\"metrics\":{\"complexity\":1.0,\"centrality\":0,\"blocking factor\":0,\"delay factor\":1.0},\"nameSub\":\"Tier I General Education\",\"id\":12,\"credits\":3,\"nameCanonical\":\"\"},{\"curriculum_requisites\":[],\"name\":\" \",\"metrics\":{\"complexity\":1.0,\"centrality\":0,\"blocking factor\":0,\"delay factor\":1.0},\"nameSub\":\"Tier I General Education\",\"id\":13,\"credits\":3,\"nameCanonical\":\"\"},{\"curriculum_requisites\":[],\"name\":\" \",\"metrics\":{\"complexity\":1.0,\"centrality\":0,\"blocking factor\":0,\"delay factor\":1.0},\"nameSub\":\"Foundation Focus\",\"id\":14,\"credits\":3,\"nameCanonical\":\"\"}],\"id\":3},{\"name\":\"Term 4\",\"curriculum_items\":[{\"curriculum_requisites\":[{\"source_id\":9,\"target_id\":15,\"type\":\"CurriculumPrerequisite\"}],\"name\":\"NSCS 200\",\"metrics\":{\"complexity\":6.0,\"centrality\":9,\"blocking factor\":3,\"delay factor\":3.0},\"nameSub\":\"Fundamentals of Neuroscience and Cognitive Science\",\"id\":15,\"credits\":3,\"nameCanonical\":\"\"},{\"curriculum_requisites\":[],\"name\":\" \",\"metrics\":{\"complexity\":1.0,\"centrality\":0,\"blocking factor\":0,\"delay factor\":1.0},\"nameSub\":\"Tier I General Education\",\"id\":16,\"credits\":3,\"nameCanonical\":\"\"},{\"curriculum_requisites\":[],\"name\":\"PHIL 241\",\"metrics\":{\"complexity\":1.0,\"centrality\":0,\"blocking factor\":0,\"delay factor\":1.0},\"nameSub\":\"Consciousness and Cognition\",\"id\":17,\"credits\":3,\"nameCanonical\":\"\"},{\"curriculum_requisites\":[],\"name\":\" \",\"metrics\":{\"complexity\":1.0,\"centrality\":0,\"blocking factor\":0,\"delay factor\":1.0},\"nameSub\":\"Foundation Focus\",\"id\":18,\"credits\":3,\"nameCanonical\":\"\"},{\"curriculum_requisites\":[],\"name\":\" \",\"metrics\":{\"complexity\":1.0,\"centrality\":0,\"blocking factor\":0,\"delay factor\":1.0},\"nameSub\":\"General Elective\",\"id\":19,\"credits\":3,\"nameCanonical\":\"\"}],\"id\":4},{\"name\":\"Term 5\",\"curriculum_items\":[{\"curriculum_requisites\":[{\"source_id\":9,\"target_id\":20,\"type\":\"CurriculumPrerequisite\"},{\"source_id\":10,\"target_id\":20,\"type\":\"CurriculumPrerequisite\"}],\"name\":\"NROS 307\",\"metrics\":{\"complexity\":4.0,\"centrality\":6,\"blocking factor\":1,\"delay factor\":3.0},\"nameSub\":\"Cellular Neurophysiology\",\"id\":20,\"credits\":3,\"nameCanonical\":\"\"},{\"curriculum_requisites\":[{\"source_id\":15,\"target_id\":21,\"type\":\"CurriculumPrerequisite\"},{\"source_id\":20,\"target_id\":21,\"type\":\"CurriculumCorequisite\"}],\"name\":\"NSCS 308\",\"metrics\":{\"complexity\":3.0,\"centrality\":0,\"blocking factor\":0,\"delay factor\":3.0},\"nameSub\":\"Methods in Neuroscience\",\"id\":21,\"credits\":1,\"nameCanonical\":\"\"},{\"curriculum_requisites\":[{\"source_id\":15,\"target_id\":22,\"type\":\"CurriculumPrerequisite\"}],\"name\":\"NSCS 320\",\"metrics\":{\"complexity\":3.0,\"centrality\":0,\"blocking factor\":0,\"delay factor\":3.0},\"nameSub\":\"Issues and Themes in Cognitive Science\",\"id\":22,\"credits\":3,\"nameCanonical\":\"\"},{\"curriculum_requisites\":[{\"source_id\":15,\"target_id\":23,\"type\":\"CurriculumPrerequisite\"}],\"name\":\"NSCS 321\",\"metrics\":{\"complexity\":3.0,\"centrality\":0,\"blocking factor\":0,\"delay factor\":3.0},\"nameSub\":\"Methods in Cognitive Science\",\"id\":23,\"credits\":1,\"nameCanonical\":\"\"},{\"curriculum_requisites\":[],\"name\":\"NROS 311\",\"metrics\":{\"complexity\":1.0,\"centrality\":0,\"blocking factor\":0,\"delay factor\":1.0},\"nameSub\":\"Scientific Programming with MATLAB\",\"id\":24,\"credits\":3,\"nameCanonical\":\"\"},{\"curriculum_requisites\":[],\"name\":\" \",\"metrics\":{\"complexity\":1.0,\"centrality\":0,\"blocking factor\":0,\"delay factor\":1.0},\"nameSub\":\"Tier II General Education\",\"id\":25,\"credits\":3,\"nameCanonical\":\"\"}],\"id\":5},{\"name\":\"Term 6\",\"curriculum_items\":[{\"curriculum_requisites\":[],\"name\":\" \",\"metrics\":{\"complexity\":1.0,\"centrality\":0,\"blocking factor\":0,\"delay factor\":1.0},\"nameSub\":\"Upper-Division Focus\",\"id\":26,\"credits\":3,\"nameCanonical\":\"\"},{\"curriculum_requisites\":[],\"name\":\" \",\"metrics\":{\"complexity\":1.0,\"centrality\":0,\"blocking factor\":0,\"delay factor\":1.0},\"nameSub\":\"Tier II General Education\",\"id\":27,\"credits\":3,\"nameCanonical\":\"\"},{\"curriculum_requisites\":[],\"name\":\" \",\"metrics\":{\"complexity\":1.0,\"centrality\":0,\"blocking factor\":0,\"delay factor\":1.0},\"nameSub\":\"Tier II General Education\",\"id\":28,\"credits\":3,\"nameCanonical\":\"\"},{\"curriculum_requisites\":[],\"name\":\" \",\"metrics\":{\"complexity\":1.0,\"centrality\":0,\"blocking factor\":0,\"delay factor\":1.0},\"nameSub\":\"Emphasis Elective\",\"id\":29,\"credits\":3,\"nameCanonical\":\"\"},{\"curriculum_requisites\":[],\"name\":\" \",\"metrics\":{\"complexity\":1.0,\"centrality\":0,\"blocking factor\":0,\"delay factor\":1.0},\"nameSub\":\"General Elective\",\"id\":30,\"credits\":3,\"nameCanonical\":\"\"}],\"id\":6},{\"name\":\"Term 7\",\"curriculum_items\":[{\"curriculum_requisites\":[],\"name\":\" \",\"metrics\":{\"complexity\":1.0,\"centrality\":0,\"blocking factor\":0,\"delay factor\":1.0},\"nameSub\":\"Introductory Physics\",\"id\":31,\"credits\":4,\"nameCanonical\":\"\"},{\"curriculum_requisites\":[],\"name\":\" \",\"metrics\":{\"complexity\":1.0,\"centrality\":0,\"blocking factor\":0,\"delay factor\":1.0},\"nameSub\":\"Tier II General Education\",\"id\":32,\"credits\":3,\"nameCanonical\":\"\"},{\"curriculum_requisites\":[],\"name\":\" \",\"metrics\":{\"complexity\":1.0,\"centrality\":0,\"blocking factor\":0,\"delay factor\":1.0},\"nameSub\":\"Emphasis Elective\",\"id\":33,\"credits\":3,\"nameCanonical\":\"\"},{\"curriculum_requisites\":[],\"name\":\" \",\"metrics\":{\"complexity\":1.0,\"centrality\":0,\"blocking factor\":0,\"delay factor\":1.0},\"nameSub\":\"Emphasis Elective\",\"id\":34,\"credits\":3,\"nameCanonical\":\"\"},{\"curriculum_requisites\":[],\"name\":\" \",\"metrics\":{\"complexity\":1.0,\"centrality\":0,\"blocking factor\":0,\"delay factor\":1.0},\"nameSub\":\"Upper-Division General Elective\",\"id\":35,\"credits\":3,\"nameCanonical\":\"\"}],\"id\":7},{\"name\":\"Term 8\",\"curriculum_items\":[{\"curriculum_requisites\":[],\"name\":\" \",\"metrics\":{\"complexity\":1.0,\"centrality\":0,\"blocking factor\":0,\"delay factor\":1.0},\"nameSub\":\"Upper-Division Focus\",\"id\":36,\"credits\":3,\"nameCanonical\":\"\"},{\"curriculum_requisites\":[],\"name\":\" \",\"metrics\":{\"complexity\":1.0,\"centrality\":0,\"blocking factor\":0,\"delay factor\":1.0},\"nameSub\":\"Emphasis Elective\",\"id\":37,\"credits\":3,\"nameCanonical\":\"\"},{\"curriculum_requisites\":[],\"name\":\" \",\"metrics\":{\"complexity\":1.0,\"centrality\":0,\"blocking factor\":0,\"delay factor\":1.0},\"nameSub\":\"Emphasis Elective\",\"id\":38,\"credits\":3,\"nameCanonical\":\"\"},{\"curriculum_requisites\":[],\"name\":\" \",\"metrics\":{\"complexity\":1.0,\"centrality\":0,\"blocking factor\":0,\"delay factor\":1.0},\"nameSub\":\"Upper-Division General Elective\",\"id\":39,\"credits\":3,\"nameCanonical\":\"\"},{\"curriculum_requisites\":[],\"name\":\" \",\"metrics\":{\"complexity\":1.0,\"centrality\":0,\"blocking factor\":0,\"delay factor\":1.0},\"nameSub\":\"Upper-Division General Elective\",\"id\":40,\"credits\":3,\"nameCanonical\":\"\"}],\"id\":8}],\"institution\":\"\"}},\"*\"); window.removeEventListener(\"message\",window.messageReceived); window.messageReceived=(function (event){return (event.data.curriculum!==undefined) ? (WebIO.setval({\"name\":\"curriculum-data\",\"scope\":\"6368710626540283377\",\"id\":\"ob_01\",\"type\":\"observable\"},event.data.curriculum)) : undefined}); return window.addEventListener(\"message\",window.messageReceived)})"
          },
          "id": "curriculum",
          "src": "http://localhost:8156",
          "style": {
           "border": "none",
           "height": "100vh",
           "margin": "0",
           "padding": "0",
           "width": "100%"
          }
         },
         "type": "node"
        }
       ],
       "instanceArgs": {
        "handlers": {},
        "id": "6368710626540283377",
        "imports": {
         "data": [],
         "type": "async_block"
        },
        "mount_callbacks": [],
        "observables": {
         "curriculum-data": {
          "id": "ob_01",
          "sync": true,
          "value": {
           "curriculum": {
            "curriculum_terms": [
             {
              "curriculum_items": [
               {
                "credits": 3,
                "curriculum_requisites": [],
                "id": 1,
                "metrics": {
                 "blocking factor": 1,
                 "centrality": 0,
                 "complexity": 3,
                 "delay factor": 2
                },
                "name": "ENGL 101",
                "nameCanonical": "",
                "nameSub": "First-Year Composition"
               },
               {
                "credits": 4,
                "curriculum_requisites": [],
                "id": 2,
                "metrics": {
                 "blocking factor": 0,
                 "centrality": 0,
                 "complexity": 1,
                 "delay factor": 1
                },
                "name": " ",
                "nameCanonical": "",
                "nameSub": "Second Language"
               },
               {
                "credits": 4,
                "curriculum_requisites": [],
                "id": 3,
                "metrics": {
                 "blocking factor": 0,
                 "centrality": 0,
                 "complexity": 1,
                 "delay factor": 1
                },
                "name": " ",
                "nameCanonical": "",
                "nameSub": "First-Semester Chemistry"
               },
               {
                "credits": 4,
                "curriculum_requisites": [],
                "id": 4,
                "metrics": {
                 "blocking factor": 0,
                 "centrality": 0,
                 "complexity": 1,
                 "delay factor": 1
                },
                "name": "MATH 122A/B",
                "nameCanonical": "",
                "nameSub": "Calculus I"
               }
              ],
              "id": 1,
              "name": "Term 1"
             },
             {
              "curriculum_items": [
               {
                "credits": 3,
                "curriculum_requisites": [
                 {
                  "source_id": 1,
                  "target_id": 5,
                  "type": "CurriculumPrerequisite"
                 }
                ],
                "id": 5,
                "metrics": {
                 "blocking factor": 0,
                 "centrality": 0,
                 "complexity": 2,
                 "delay factor": 2
                },
                "name": "ENGL 102",
                "nameCanonical": "",
                "nameSub": "First-Year Composition"
               },
               {
                "credits": 4,
                "curriculum_requisites": [],
                "id": 6,
                "metrics": {
                 "blocking factor": 0,
                 "centrality": 0,
                 "complexity": 1,
                 "delay factor": 1
                },
                "name": " ",
                "nameCanonical": "",
                "nameSub": "Second Language"
               },
               {
                "credits": 3,
                "curriculum_requisites": [],
                "id": 7,
                "metrics": {
                 "blocking factor": 0,
                 "centrality": 0,
                 "complexity": 1,
                 "delay factor": 1
                },
                "name": " ",
                "nameCanonical": "",
                "nameSub": "Tier I General Education"
               },
               {
                "credits": 3,
                "curriculum_requisites": [],
                "id": 8,
                "metrics": {
                 "blocking factor": 0,
                 "centrality": 0,
                 "complexity": 1,
                 "delay factor": 1
                },
                "name": " ",
                "nameCanonical": "",
                "nameSub": "Foundation Focus"
               }
              ],
              "id": 2,
              "name": "Term 2"
             },
             {
              "curriculum_items": [
               {
                "credits": 3,
                "curriculum_requisites": [],
                "id": 9,
                "metrics": {
                 "blocking factor": 5,
                 "centrality": 0,
                 "complexity": 8,
                 "delay factor": 3
                },
                "name": "MCB 181R",
                "nameCanonical": "",
                "nameSub": "Introductory Biology I"
               },
               {
                "credits": 1,
                "curriculum_requisites": [],
                "id": 10,
                "metrics": {
                 "blocking factor": 2,
                 "centrality": 0,
                 "complexity": 5,
                 "delay factor": 3
                },
                "name": "MCB 181L",
                "nameCanonical": "",
                "nameSub": "Introductory Biology Laboratory I"
               },
               {
                "credits": 3,
                "curriculum_requisites": [],
                "id": 11,
                "metrics": {
                 "blocking factor": 0,
                 "centrality": 0,
                 "complexity": 1,
                 "delay factor": 1
                },
                "name": " ",
                "nameCanonical": "",
                "nameSub": "Statistics"
               },
               {
                "credits": 3,
                "curriculum_requisites": [],
                "id": 12,
                "metrics": {
                 "blocking factor": 0,
                 "centrality": 0,
                 "complexity": 1,
                 "delay factor": 1
                },
                "name": " ",
                "nameCanonical": "",
                "nameSub": "Tier I General Education"
               },
               {
                "credits": 3,
                "curriculum_requisites": [],
                "id": 13,
                "metrics": {
                 "blocking factor": 0,
                 "centrality": 0,
                 "complexity": 1,
                 "delay factor": 1
                },
                "name": " ",
                "nameCanonical": "",
                "nameSub": "Tier I General Education"
               },
               {
                "credits": 3,
                "curriculum_requisites": [],
                "id": 14,
                "metrics": {
                 "blocking factor": 0,
                 "centrality": 0,
                 "complexity": 1,
                 "delay factor": 1
                },
                "name": " ",
                "nameCanonical": "",
                "nameSub": "Foundation Focus"
               }
              ],
              "id": 3,
              "name": "Term 3"
             },
             {
              "curriculum_items": [
               {
                "credits": 3,
                "curriculum_requisites": [
                 {
                  "source_id": 9,
                  "target_id": 15,
                  "type": "CurriculumPrerequisite"
                 }
                ],
                "id": 15,
                "metrics": {
                 "blocking factor": 3,
                 "centrality": 9,
                 "complexity": 6,
                 "delay factor": 3
                },
                "name": "NSCS 200",
                "nameCanonical": "",
                "nameSub": "Fundamentals of Neuroscience and Cognitive Science"
               },
               {
                "credits": 3,
                "curriculum_requisites": [],
                "id": 16,
                "metrics": {
                 "blocking factor": 0,
                 "centrality": 0,
                 "complexity": 1,
                 "delay factor": 1
                },
                "name": " ",
                "nameCanonical": "",
                "nameSub": "Tier I General Education"
               },
               {
                "credits": 3,
                "curriculum_requisites": [],
                "id": 17,
                "metrics": {
                 "blocking factor": 0,
                 "centrality": 0,
                 "complexity": 1,
                 "delay factor": 1
                },
                "name": "PHIL 241",
                "nameCanonical": "",
                "nameSub": "Consciousness and Cognition"
               },
               {
                "credits": 3,
                "curriculum_requisites": [],
                "id": 18,
                "metrics": {
                 "blocking factor": 0,
                 "centrality": 0,
                 "complexity": 1,
                 "delay factor": 1
                },
                "name": " ",
                "nameCanonical": "",
                "nameSub": "Foundation Focus"
               },
               {
                "credits": 3,
                "curriculum_requisites": [],
                "id": 19,
                "metrics": {
                 "blocking factor": 0,
                 "centrality": 0,
                 "complexity": 1,
                 "delay factor": 1
                },
                "name": " ",
                "nameCanonical": "",
                "nameSub": "General Elective"
               }
              ],
              "id": 4,
              "name": "Term 4"
             },
             {
              "curriculum_items": [
               {
                "credits": 3,
                "curriculum_requisites": [
                 {
                  "source_id": 9,
                  "target_id": 20,
                  "type": "CurriculumPrerequisite"
                 },
                 {
                  "source_id": 10,
                  "target_id": 20,
                  "type": "CurriculumPrerequisite"
                 }
                ],
                "id": 20,
                "metrics": {
                 "blocking factor": 1,
                 "centrality": 6,
                 "complexity": 4,
                 "delay factor": 3
                },
                "name": "NROS 307",
                "nameCanonical": "",
                "nameSub": "Cellular Neurophysiology"
               },
               {
                "credits": 1,
                "curriculum_requisites": [
                 {
                  "source_id": 15,
                  "target_id": 21,
                  "type": "CurriculumPrerequisite"
                 },
                 {
                  "source_id": 20,
                  "target_id": 21,
                  "type": "CurriculumCorequisite"
                 }
                ],
                "id": 21,
                "metrics": {
                 "blocking factor": 0,
                 "centrality": 0,
                 "complexity": 3,
                 "delay factor": 3
                },
                "name": "NSCS 308",
                "nameCanonical": "",
                "nameSub": "Methods in Neuroscience"
               },
               {
                "credits": 3,
                "curriculum_requisites": [
                 {
                  "source_id": 15,
                  "target_id": 22,
                  "type": "CurriculumPrerequisite"
                 }
                ],
                "id": 22,
                "metrics": {
                 "blocking factor": 0,
                 "centrality": 0,
                 "complexity": 3,
                 "delay factor": 3
                },
                "name": "NSCS 320",
                "nameCanonical": "",
                "nameSub": "Issues and Themes in Cognitive Science"
               },
               {
                "credits": 1,
                "curriculum_requisites": [
                 {
                  "source_id": 15,
                  "target_id": 23,
                  "type": "CurriculumPrerequisite"
                 }
                ],
                "id": 23,
                "metrics": {
                 "blocking factor": 0,
                 "centrality": 0,
                 "complexity": 3,
                 "delay factor": 3
                },
                "name": "NSCS 321",
                "nameCanonical": "",
                "nameSub": "Methods in Cognitive Science"
               },
               {
                "credits": 3,
                "curriculum_requisites": [],
                "id": 24,
                "metrics": {
                 "blocking factor": 0,
                 "centrality": 0,
                 "complexity": 1,
                 "delay factor": 1
                },
                "name": "NROS 311",
                "nameCanonical": "",
                "nameSub": "Scientific Programming with MATLAB"
               },
               {
                "credits": 3,
                "curriculum_requisites": [],
                "id": 25,
                "metrics": {
                 "blocking factor": 0,
                 "centrality": 0,
                 "complexity": 1,
                 "delay factor": 1
                },
                "name": " ",
                "nameCanonical": "",
                "nameSub": "Tier II General Education"
               }
              ],
              "id": 5,
              "name": "Term 5"
             },
             {
              "curriculum_items": [
               {
                "credits": 3,
                "curriculum_requisites": [],
                "id": 26,
                "metrics": {
                 "blocking factor": 0,
                 "centrality": 0,
                 "complexity": 1,
                 "delay factor": 1
                },
                "name": " ",
                "nameCanonical": "",
                "nameSub": "Upper-Division Focus"
               },
               {
                "credits": 3,
                "curriculum_requisites": [],
                "id": 27,
                "metrics": {
                 "blocking factor": 0,
                 "centrality": 0,
                 "complexity": 1,
                 "delay factor": 1
                },
                "name": " ",
                "nameCanonical": "",
                "nameSub": "Tier II General Education"
               },
               {
                "credits": 3,
                "curriculum_requisites": [],
                "id": 28,
                "metrics": {
                 "blocking factor": 0,
                 "centrality": 0,
                 "complexity": 1,
                 "delay factor": 1
                },
                "name": " ",
                "nameCanonical": "",
                "nameSub": "Tier II General Education"
               },
               {
                "credits": 3,
                "curriculum_requisites": [],
                "id": 29,
                "metrics": {
                 "blocking factor": 0,
                 "centrality": 0,
                 "complexity": 1,
                 "delay factor": 1
                },
                "name": " ",
                "nameCanonical": "",
                "nameSub": "Emphasis Elective"
               },
               {
                "credits": 3,
                "curriculum_requisites": [],
                "id": 30,
                "metrics": {
                 "blocking factor": 0,
                 "centrality": 0,
                 "complexity": 1,
                 "delay factor": 1
                },
                "name": " ",
                "nameCanonical": "",
                "nameSub": "General Elective"
               }
              ],
              "id": 6,
              "name": "Term 6"
             },
             {
              "curriculum_items": [
               {
                "credits": 4,
                "curriculum_requisites": [],
                "id": 31,
                "metrics": {
                 "blocking factor": 0,
                 "centrality": 0,
                 "complexity": 1,
                 "delay factor": 1
                },
                "name": " ",
                "nameCanonical": "",
                "nameSub": "Introductory Physics"
               },
               {
                "credits": 3,
                "curriculum_requisites": [],
                "id": 32,
                "metrics": {
                 "blocking factor": 0,
                 "centrality": 0,
                 "complexity": 1,
                 "delay factor": 1
                },
                "name": " ",
                "nameCanonical": "",
                "nameSub": "Tier II General Education"
               },
               {
                "credits": 3,
                "curriculum_requisites": [],
                "id": 33,
                "metrics": {
                 "blocking factor": 0,
                 "centrality": 0,
                 "complexity": 1,
                 "delay factor": 1
                },
                "name": " ",
                "nameCanonical": "",
                "nameSub": "Emphasis Elective"
               },
               {
                "credits": 3,
                "curriculum_requisites": [],
                "id": 34,
                "metrics": {
                 "blocking factor": 0,
                 "centrality": 0,
                 "complexity": 1,
                 "delay factor": 1
                },
                "name": " ",
                "nameCanonical": "",
                "nameSub": "Emphasis Elective"
               },
               {
                "credits": 3,
                "curriculum_requisites": [],
                "id": 35,
                "metrics": {
                 "blocking factor": 0,
                 "centrality": 0,
                 "complexity": 1,
                 "delay factor": 1
                },
                "name": " ",
                "nameCanonical": "",
                "nameSub": "Upper-Division General Elective"
               }
              ],
              "id": 7,
              "name": "Term 7"
             },
             {
              "curriculum_items": [
               {
                "credits": 3,
                "curriculum_requisites": [],
                "id": 36,
                "metrics": {
                 "blocking factor": 0,
                 "centrality": 0,
                 "complexity": 1,
                 "delay factor": 1
                },
                "name": " ",
                "nameCanonical": "",
                "nameSub": "Upper-Division Focus"
               },
               {
                "credits": 3,
                "curriculum_requisites": [],
                "id": 37,
                "metrics": {
                 "blocking factor": 0,
                 "centrality": 0,
                 "complexity": 1,
                 "delay factor": 1
                },
                "name": " ",
                "nameCanonical": "",
                "nameSub": "Emphasis Elective"
               },
               {
                "credits": 3,
                "curriculum_requisites": [],
                "id": 38,
                "metrics": {
                 "blocking factor": 0,
                 "centrality": 0,
                 "complexity": 1,
                 "delay factor": 1
                },
                "name": " ",
                "nameCanonical": "",
                "nameSub": "Emphasis Elective"
               },
               {
                "credits": 3,
                "curriculum_requisites": [],
                "id": 39,
                "metrics": {
                 "blocking factor": 0,
                 "centrality": 0,
                 "complexity": 1,
                 "delay factor": 1
                },
                "name": " ",
                "nameCanonical": "",
                "nameSub": "Upper-Division General Elective"
               },
               {
                "credits": 3,
                "curriculum_requisites": [],
                "id": 40,
                "metrics": {
                 "blocking factor": 0,
                 "centrality": 0,
                 "complexity": 1,
                 "delay factor": 1
                },
                "name": " ",
                "nameCanonical": "",
                "nameSub": "Upper-Division General Elective"
               }
              ],
              "id": 8,
              "name": "Term 8"
             }
            ],
            "dp_name": "2019-20 Degree Plan",
            "institution": "",
            "name": "Neuroscience and Cognitive Science"
           },
           "options": {
            "edit": false,
            "hideTerms": false
           }
          }
         }
        },
        "systemjs_options": null
       },
       "nodeType": "Scope",
       "props": {},
       "type": "node"
      },
      "text/html": [
       "<div\n",
       "    class=\"webio-mountpoint\"\n",
       "    data-webio-mountpoint=\"10249715038037682939\"\n",
       ">\n",
       "    <script>\n",
       "    if (window.require && require.defined && require.defined(\"nbextensions/webio-jupyter-notebook\")) {\n",
       "        console.log(\"Jupyter WebIO extension detected, not mounting.\");\n",
       "    } else if (window.WebIO) {\n",
       "        WebIO.mount(\n",
       "            document.querySelector('[data-webio-mountpoint=\"10249715038037682939\"]'),\n",
       "            {\"props\":{},\"nodeType\":\"Scope\",\"type\":\"node\",\"instanceArgs\":{\"imports\":{\"data\":[],\"type\":\"async_block\"},\"id\":\"6368710626540283377\",\"handlers\":{},\"systemjs_options\":null,\"mount_callbacks\":[],\"observables\":{\"curriculum-data\":{\"sync\":true,\"id\":\"ob_01\",\"value\":{\"options\":{\"hideTerms\":false,\"edit\":false},\"curriculum\":{\"name\":\"Neuroscience and Cognitive Science\",\"dp_name\":\"2019-20 Degree Plan\",\"curriculum_terms\":[{\"name\":\"Term 1\",\"curriculum_items\":[{\"curriculum_requisites\":[],\"name\":\"ENGL 101\",\"metrics\":{\"complexity\":3.0,\"centrality\":0,\"blocking factor\":1,\"delay factor\":2.0},\"nameSub\":\"First-Year Composition\",\"id\":1,\"credits\":3,\"nameCanonical\":\"\"},{\"curriculum_requisites\":[],\"name\":\" \",\"metrics\":{\"complexity\":1.0,\"centrality\":0,\"blocking factor\":0,\"delay factor\":1.0},\"nameSub\":\"Second Language\",\"id\":2,\"credits\":4,\"nameCanonical\":\"\"},{\"curriculum_requisites\":[],\"name\":\" \",\"metrics\":{\"complexity\":1.0,\"centrality\":0,\"blocking factor\":0,\"delay factor\":1.0},\"nameSub\":\"First-Semester Chemistry\",\"id\":3,\"credits\":4,\"nameCanonical\":\"\"},{\"curriculum_requisites\":[],\"name\":\"MATH 122A\\/B\",\"metrics\":{\"complexity\":1.0,\"centrality\":0,\"blocking factor\":0,\"delay factor\":1.0},\"nameSub\":\"Calculus I\",\"id\":4,\"credits\":4,\"nameCanonical\":\"\"}],\"id\":1},{\"name\":\"Term 2\",\"curriculum_items\":[{\"curriculum_requisites\":[{\"source_id\":1,\"target_id\":5,\"type\":\"CurriculumPrerequisite\"}],\"name\":\"ENGL 102\",\"metrics\":{\"complexity\":2.0,\"centrality\":0,\"blocking factor\":0,\"delay factor\":2.0},\"nameSub\":\"First-Year Composition\",\"id\":5,\"credits\":3,\"nameCanonical\":\"\"},{\"curriculum_requisites\":[],\"name\":\" \",\"metrics\":{\"complexity\":1.0,\"centrality\":0,\"blocking factor\":0,\"delay factor\":1.0},\"nameSub\":\"Second Language\",\"id\":6,\"credits\":4,\"nameCanonical\":\"\"},{\"curriculum_requisites\":[],\"name\":\" \",\"metrics\":{\"complexity\":1.0,\"centrality\":0,\"blocking factor\":0,\"delay factor\":1.0},\"nameSub\":\"Tier I General Education\",\"id\":7,\"credits\":3,\"nameCanonical\":\"\"},{\"curriculum_requisites\":[],\"name\":\" \",\"metrics\":{\"complexity\":1.0,\"centrality\":0,\"blocking factor\":0,\"delay factor\":1.0},\"nameSub\":\"Foundation Focus\",\"id\":8,\"credits\":3,\"nameCanonical\":\"\"}],\"id\":2},{\"name\":\"Term 3\",\"curriculum_items\":[{\"curriculum_requisites\":[],\"name\":\"MCB 181R\",\"metrics\":{\"complexity\":8.0,\"centrality\":0,\"blocking factor\":5,\"delay factor\":3.0},\"nameSub\":\"Introductory Biology I\",\"id\":9,\"credits\":3,\"nameCanonical\":\"\"},{\"curriculum_requisites\":[],\"name\":\"MCB 181L\",\"metrics\":{\"complexity\":5.0,\"centrality\":0,\"blocking factor\":2,\"delay factor\":3.0},\"nameSub\":\"Introductory Biology Laboratory I\",\"id\":10,\"credits\":1,\"nameCanonical\":\"\"},{\"curriculum_requisites\":[],\"name\":\" \",\"metrics\":{\"complexity\":1.0,\"centrality\":0,\"blocking factor\":0,\"delay factor\":1.0},\"nameSub\":\"Statistics\",\"id\":11,\"credits\":3,\"nameCanonical\":\"\"},{\"curriculum_requisites\":[],\"name\":\" \",\"metrics\":{\"complexity\":1.0,\"centrality\":0,\"blocking factor\":0,\"delay factor\":1.0},\"nameSub\":\"Tier I General Education\",\"id\":12,\"credits\":3,\"nameCanonical\":\"\"},{\"curriculum_requisites\":[],\"name\":\" \",\"metrics\":{\"complexity\":1.0,\"centrality\":0,\"blocking factor\":0,\"delay factor\":1.0},\"nameSub\":\"Tier I General Education\",\"id\":13,\"credits\":3,\"nameCanonical\":\"\"},{\"curriculum_requisites\":[],\"name\":\" \",\"metrics\":{\"complexity\":1.0,\"centrality\":0,\"blocking factor\":0,\"delay factor\":1.0},\"nameSub\":\"Foundation Focus\",\"id\":14,\"credits\":3,\"nameCanonical\":\"\"}],\"id\":3},{\"name\":\"Term 4\",\"curriculum_items\":[{\"curriculum_requisites\":[{\"source_id\":9,\"target_id\":15,\"type\":\"CurriculumPrerequisite\"}],\"name\":\"NSCS 200\",\"metrics\":{\"complexity\":6.0,\"centrality\":9,\"blocking factor\":3,\"delay factor\":3.0},\"nameSub\":\"Fundamentals of Neuroscience and Cognitive Science\",\"id\":15,\"credits\":3,\"nameCanonical\":\"\"},{\"curriculum_requisites\":[],\"name\":\" \",\"metrics\":{\"complexity\":1.0,\"centrality\":0,\"blocking factor\":0,\"delay factor\":1.0},\"nameSub\":\"Tier I General Education\",\"id\":16,\"credits\":3,\"nameCanonical\":\"\"},{\"curriculum_requisites\":[],\"name\":\"PHIL 241\",\"metrics\":{\"complexity\":1.0,\"centrality\":0,\"blocking factor\":0,\"delay factor\":1.0},\"nameSub\":\"Consciousness and Cognition\",\"id\":17,\"credits\":3,\"nameCanonical\":\"\"},{\"curriculum_requisites\":[],\"name\":\" \",\"metrics\":{\"complexity\":1.0,\"centrality\":0,\"blocking factor\":0,\"delay factor\":1.0},\"nameSub\":\"Foundation Focus\",\"id\":18,\"credits\":3,\"nameCanonical\":\"\"},{\"curriculum_requisites\":[],\"name\":\" \",\"metrics\":{\"complexity\":1.0,\"centrality\":0,\"blocking factor\":0,\"delay factor\":1.0},\"nameSub\":\"General Elective\",\"id\":19,\"credits\":3,\"nameCanonical\":\"\"}],\"id\":4},{\"name\":\"Term 5\",\"curriculum_items\":[{\"curriculum_requisites\":[{\"source_id\":9,\"target_id\":20,\"type\":\"CurriculumPrerequisite\"},{\"source_id\":10,\"target_id\":20,\"type\":\"CurriculumPrerequisite\"}],\"name\":\"NROS 307\",\"metrics\":{\"complexity\":4.0,\"centrality\":6,\"blocking factor\":1,\"delay factor\":3.0},\"nameSub\":\"Cellular Neurophysiology\",\"id\":20,\"credits\":3,\"nameCanonical\":\"\"},{\"curriculum_requisites\":[{\"source_id\":15,\"target_id\":21,\"type\":\"CurriculumPrerequisite\"},{\"source_id\":20,\"target_id\":21,\"type\":\"CurriculumCorequisite\"}],\"name\":\"NSCS 308\",\"metrics\":{\"complexity\":3.0,\"centrality\":0,\"blocking factor\":0,\"delay factor\":3.0},\"nameSub\":\"Methods in Neuroscience\",\"id\":21,\"credits\":1,\"nameCanonical\":\"\"},{\"curriculum_requisites\":[{\"source_id\":15,\"target_id\":22,\"type\":\"CurriculumPrerequisite\"}],\"name\":\"NSCS 320\",\"metrics\":{\"complexity\":3.0,\"centrality\":0,\"blocking factor\":0,\"delay factor\":3.0},\"nameSub\":\"Issues and Themes in Cognitive Science\",\"id\":22,\"credits\":3,\"nameCanonical\":\"\"},{\"curriculum_requisites\":[{\"source_id\":15,\"target_id\":23,\"type\":\"CurriculumPrerequisite\"}],\"name\":\"NSCS 321\",\"metrics\":{\"complexity\":3.0,\"centrality\":0,\"blocking factor\":0,\"delay factor\":3.0},\"nameSub\":\"Methods in Cognitive Science\",\"id\":23,\"credits\":1,\"nameCanonical\":\"\"},{\"curriculum_requisites\":[],\"name\":\"NROS 311\",\"metrics\":{\"complexity\":1.0,\"centrality\":0,\"blocking factor\":0,\"delay factor\":1.0},\"nameSub\":\"Scientific Programming with MATLAB\",\"id\":24,\"credits\":3,\"nameCanonical\":\"\"},{\"curriculum_requisites\":[],\"name\":\" \",\"metrics\":{\"complexity\":1.0,\"centrality\":0,\"blocking factor\":0,\"delay factor\":1.0},\"nameSub\":\"Tier II General Education\",\"id\":25,\"credits\":3,\"nameCanonical\":\"\"}],\"id\":5},{\"name\":\"Term 6\",\"curriculum_items\":[{\"curriculum_requisites\":[],\"name\":\" \",\"metrics\":{\"complexity\":1.0,\"centrality\":0,\"blocking factor\":0,\"delay factor\":1.0},\"nameSub\":\"Upper-Division Focus\",\"id\":26,\"credits\":3,\"nameCanonical\":\"\"},{\"curriculum_requisites\":[],\"name\":\" \",\"metrics\":{\"complexity\":1.0,\"centrality\":0,\"blocking factor\":0,\"delay factor\":1.0},\"nameSub\":\"Tier II General Education\",\"id\":27,\"credits\":3,\"nameCanonical\":\"\"},{\"curriculum_requisites\":[],\"name\":\" \",\"metrics\":{\"complexity\":1.0,\"centrality\":0,\"blocking factor\":0,\"delay factor\":1.0},\"nameSub\":\"Tier II General Education\",\"id\":28,\"credits\":3,\"nameCanonical\":\"\"},{\"curriculum_requisites\":[],\"name\":\" \",\"metrics\":{\"complexity\":1.0,\"centrality\":0,\"blocking factor\":0,\"delay factor\":1.0},\"nameSub\":\"Emphasis Elective\",\"id\":29,\"credits\":3,\"nameCanonical\":\"\"},{\"curriculum_requisites\":[],\"name\":\" \",\"metrics\":{\"complexity\":1.0,\"centrality\":0,\"blocking factor\":0,\"delay factor\":1.0},\"nameSub\":\"General Elective\",\"id\":30,\"credits\":3,\"nameCanonical\":\"\"}],\"id\":6},{\"name\":\"Term 7\",\"curriculum_items\":[{\"curriculum_requisites\":[],\"name\":\" \",\"metrics\":{\"complexity\":1.0,\"centrality\":0,\"blocking factor\":0,\"delay factor\":1.0},\"nameSub\":\"Introductory Physics\",\"id\":31,\"credits\":4,\"nameCanonical\":\"\"},{\"curriculum_requisites\":[],\"name\":\" \",\"metrics\":{\"complexity\":1.0,\"centrality\":0,\"blocking factor\":0,\"delay factor\":1.0},\"nameSub\":\"Tier II General Education\",\"id\":32,\"credits\":3,\"nameCanonical\":\"\"},{\"curriculum_requisites\":[],\"name\":\" \",\"metrics\":{\"complexity\":1.0,\"centrality\":0,\"blocking factor\":0,\"delay factor\":1.0},\"nameSub\":\"Emphasis Elective\",\"id\":33,\"credits\":3,\"nameCanonical\":\"\"},{\"curriculum_requisites\":[],\"name\":\" \",\"metrics\":{\"complexity\":1.0,\"centrality\":0,\"blocking factor\":0,\"delay factor\":1.0},\"nameSub\":\"Emphasis Elective\",\"id\":34,\"credits\":3,\"nameCanonical\":\"\"},{\"curriculum_requisites\":[],\"name\":\" \",\"metrics\":{\"complexity\":1.0,\"centrality\":0,\"blocking factor\":0,\"delay factor\":1.0},\"nameSub\":\"Upper-Division General Elective\",\"id\":35,\"credits\":3,\"nameCanonical\":\"\"}],\"id\":7},{\"name\":\"Term 8\",\"curriculum_items\":[{\"curriculum_requisites\":[],\"name\":\" \",\"metrics\":{\"complexity\":1.0,\"centrality\":0,\"blocking factor\":0,\"delay factor\":1.0},\"nameSub\":\"Upper-Division Focus\",\"id\":36,\"credits\":3,\"nameCanonical\":\"\"},{\"curriculum_requisites\":[],\"name\":\" \",\"metrics\":{\"complexity\":1.0,\"centrality\":0,\"blocking factor\":0,\"delay factor\":1.0},\"nameSub\":\"Emphasis Elective\",\"id\":37,\"credits\":3,\"nameCanonical\":\"\"},{\"curriculum_requisites\":[],\"name\":\" \",\"metrics\":{\"complexity\":1.0,\"centrality\":0,\"blocking factor\":0,\"delay factor\":1.0},\"nameSub\":\"Emphasis Elective\",\"id\":38,\"credits\":3,\"nameCanonical\":\"\"},{\"curriculum_requisites\":[],\"name\":\" \",\"metrics\":{\"complexity\":1.0,\"centrality\":0,\"blocking factor\":0,\"delay factor\":1.0},\"nameSub\":\"Upper-Division General Elective\",\"id\":39,\"credits\":3,\"nameCanonical\":\"\"},{\"curriculum_requisites\":[],\"name\":\" \",\"metrics\":{\"complexity\":1.0,\"centrality\":0,\"blocking factor\":0,\"delay factor\":1.0},\"nameSub\":\"Upper-Division General Elective\",\"id\":40,\"credits\":3,\"nameCanonical\":\"\"}],\"id\":8}],\"institution\":\"\"}}}}},\"children\":[{\"props\":{\"src\":\"http:\\/\\/localhost:8156\",\"id\":\"curriculum\",\"events\":{\"load\":\"(function (){this.contentWindow.postMessage({\\\"options\\\":{\\\"hideTerms\\\":false,\\\"edit\\\":false},\\\"curriculum\\\":{\\\"name\\\":\\\"Neuroscience and Cognitive Science\\\",\\\"dp_name\\\":\\\"2019-20 Degree Plan\\\",\\\"curriculum_terms\\\":[{\\\"name\\\":\\\"Term 1\\\",\\\"curriculum_items\\\":[{\\\"curriculum_requisites\\\":[],\\\"name\\\":\\\"ENGL 101\\\",\\\"metrics\\\":{\\\"complexity\\\":3.0,\\\"centrality\\\":0,\\\"blocking factor\\\":1,\\\"delay factor\\\":2.0},\\\"nameSub\\\":\\\"First-Year Composition\\\",\\\"id\\\":1,\\\"credits\\\":3,\\\"nameCanonical\\\":\\\"\\\"},{\\\"curriculum_requisites\\\":[],\\\"name\\\":\\\" \\\",\\\"metrics\\\":{\\\"complexity\\\":1.0,\\\"centrality\\\":0,\\\"blocking factor\\\":0,\\\"delay factor\\\":1.0},\\\"nameSub\\\":\\\"Second Language\\\",\\\"id\\\":2,\\\"credits\\\":4,\\\"nameCanonical\\\":\\\"\\\"},{\\\"curriculum_requisites\\\":[],\\\"name\\\":\\\" \\\",\\\"metrics\\\":{\\\"complexity\\\":1.0,\\\"centrality\\\":0,\\\"blocking factor\\\":0,\\\"delay factor\\\":1.0},\\\"nameSub\\\":\\\"First-Semester Chemistry\\\",\\\"id\\\":3,\\\"credits\\\":4,\\\"nameCanonical\\\":\\\"\\\"},{\\\"curriculum_requisites\\\":[],\\\"name\\\":\\\"MATH 122A\\/B\\\",\\\"metrics\\\":{\\\"complexity\\\":1.0,\\\"centrality\\\":0,\\\"blocking factor\\\":0,\\\"delay factor\\\":1.0},\\\"nameSub\\\":\\\"Calculus I\\\",\\\"id\\\":4,\\\"credits\\\":4,\\\"nameCanonical\\\":\\\"\\\"}],\\\"id\\\":1},{\\\"name\\\":\\\"Term 2\\\",\\\"curriculum_items\\\":[{\\\"curriculum_requisites\\\":[{\\\"source_id\\\":1,\\\"target_id\\\":5,\\\"type\\\":\\\"CurriculumPrerequisite\\\"}],\\\"name\\\":\\\"ENGL 102\\\",\\\"metrics\\\":{\\\"complexity\\\":2.0,\\\"centrality\\\":0,\\\"blocking factor\\\":0,\\\"delay factor\\\":2.0},\\\"nameSub\\\":\\\"First-Year Composition\\\",\\\"id\\\":5,\\\"credits\\\":3,\\\"nameCanonical\\\":\\\"\\\"},{\\\"curriculum_requisites\\\":[],\\\"name\\\":\\\" \\\",\\\"metrics\\\":{\\\"complexity\\\":1.0,\\\"centrality\\\":0,\\\"blocking factor\\\":0,\\\"delay factor\\\":1.0},\\\"nameSub\\\":\\\"Second Language\\\",\\\"id\\\":6,\\\"credits\\\":4,\\\"nameCanonical\\\":\\\"\\\"},{\\\"curriculum_requisites\\\":[],\\\"name\\\":\\\" \\\",\\\"metrics\\\":{\\\"complexity\\\":1.0,\\\"centrality\\\":0,\\\"blocking factor\\\":0,\\\"delay factor\\\":1.0},\\\"nameSub\\\":\\\"Tier I General Education\\\",\\\"id\\\":7,\\\"credits\\\":3,\\\"nameCanonical\\\":\\\"\\\"},{\\\"curriculum_requisites\\\":[],\\\"name\\\":\\\" \\\",\\\"metrics\\\":{\\\"complexity\\\":1.0,\\\"centrality\\\":0,\\\"blocking factor\\\":0,\\\"delay factor\\\":1.0},\\\"nameSub\\\":\\\"Foundation Focus\\\",\\\"id\\\":8,\\\"credits\\\":3,\\\"nameCanonical\\\":\\\"\\\"}],\\\"id\\\":2},{\\\"name\\\":\\\"Term 3\\\",\\\"curriculum_items\\\":[{\\\"curriculum_requisites\\\":[],\\\"name\\\":\\\"MCB 181R\\\",\\\"metrics\\\":{\\\"complexity\\\":8.0,\\\"centrality\\\":0,\\\"blocking factor\\\":5,\\\"delay factor\\\":3.0},\\\"nameSub\\\":\\\"Introductory Biology I\\\",\\\"id\\\":9,\\\"credits\\\":3,\\\"nameCanonical\\\":\\\"\\\"},{\\\"curriculum_requisites\\\":[],\\\"name\\\":\\\"MCB 181L\\\",\\\"metrics\\\":{\\\"complexity\\\":5.0,\\\"centrality\\\":0,\\\"blocking factor\\\":2,\\\"delay factor\\\":3.0},\\\"nameSub\\\":\\\"Introductory Biology Laboratory I\\\",\\\"id\\\":10,\\\"credits\\\":1,\\\"nameCanonical\\\":\\\"\\\"},{\\\"curriculum_requisites\\\":[],\\\"name\\\":\\\" \\\",\\\"metrics\\\":{\\\"complexity\\\":1.0,\\\"centrality\\\":0,\\\"blocking factor\\\":0,\\\"delay factor\\\":1.0},\\\"nameSub\\\":\\\"Statistics\\\",\\\"id\\\":11,\\\"credits\\\":3,\\\"nameCanonical\\\":\\\"\\\"},{\\\"curriculum_requisites\\\":[],\\\"name\\\":\\\" \\\",\\\"metrics\\\":{\\\"complexity\\\":1.0,\\\"centrality\\\":0,\\\"blocking factor\\\":0,\\\"delay factor\\\":1.0},\\\"nameSub\\\":\\\"Tier I General Education\\\",\\\"id\\\":12,\\\"credits\\\":3,\\\"nameCanonical\\\":\\\"\\\"},{\\\"curriculum_requisites\\\":[],\\\"name\\\":\\\" \\\",\\\"metrics\\\":{\\\"complexity\\\":1.0,\\\"centrality\\\":0,\\\"blocking factor\\\":0,\\\"delay factor\\\":1.0},\\\"nameSub\\\":\\\"Tier I General Education\\\",\\\"id\\\":13,\\\"credits\\\":3,\\\"nameCanonical\\\":\\\"\\\"},{\\\"curriculum_requisites\\\":[],\\\"name\\\":\\\" \\\",\\\"metrics\\\":{\\\"complexity\\\":1.0,\\\"centrality\\\":0,\\\"blocking factor\\\":0,\\\"delay factor\\\":1.0},\\\"nameSub\\\":\\\"Foundation Focus\\\",\\\"id\\\":14,\\\"credits\\\":3,\\\"nameCanonical\\\":\\\"\\\"}],\\\"id\\\":3},{\\\"name\\\":\\\"Term 4\\\",\\\"curriculum_items\\\":[{\\\"curriculum_requisites\\\":[{\\\"source_id\\\":9,\\\"target_id\\\":15,\\\"type\\\":\\\"CurriculumPrerequisite\\\"}],\\\"name\\\":\\\"NSCS 200\\\",\\\"metrics\\\":{\\\"complexity\\\":6.0,\\\"centrality\\\":9,\\\"blocking factor\\\":3,\\\"delay factor\\\":3.0},\\\"nameSub\\\":\\\"Fundamentals of Neuroscience and Cognitive Science\\\",\\\"id\\\":15,\\\"credits\\\":3,\\\"nameCanonical\\\":\\\"\\\"},{\\\"curriculum_requisites\\\":[],\\\"name\\\":\\\" \\\",\\\"metrics\\\":{\\\"complexity\\\":1.0,\\\"centrality\\\":0,\\\"blocking factor\\\":0,\\\"delay factor\\\":1.0},\\\"nameSub\\\":\\\"Tier I General Education\\\",\\\"id\\\":16,\\\"credits\\\":3,\\\"nameCanonical\\\":\\\"\\\"},{\\\"curriculum_requisites\\\":[],\\\"name\\\":\\\"PHIL 241\\\",\\\"metrics\\\":{\\\"complexity\\\":1.0,\\\"centrality\\\":0,\\\"blocking factor\\\":0,\\\"delay factor\\\":1.0},\\\"nameSub\\\":\\\"Consciousness and Cognition\\\",\\\"id\\\":17,\\\"credits\\\":3,\\\"nameCanonical\\\":\\\"\\\"},{\\\"curriculum_requisites\\\":[],\\\"name\\\":\\\" \\\",\\\"metrics\\\":{\\\"complexity\\\":1.0,\\\"centrality\\\":0,\\\"blocking factor\\\":0,\\\"delay factor\\\":1.0},\\\"nameSub\\\":\\\"Foundation Focus\\\",\\\"id\\\":18,\\\"credits\\\":3,\\\"nameCanonical\\\":\\\"\\\"},{\\\"curriculum_requisites\\\":[],\\\"name\\\":\\\" \\\",\\\"metrics\\\":{\\\"complexity\\\":1.0,\\\"centrality\\\":0,\\\"blocking factor\\\":0,\\\"delay factor\\\":1.0},\\\"nameSub\\\":\\\"General Elective\\\",\\\"id\\\":19,\\\"credits\\\":3,\\\"nameCanonical\\\":\\\"\\\"}],\\\"id\\\":4},{\\\"name\\\":\\\"Term 5\\\",\\\"curriculum_items\\\":[{\\\"curriculum_requisites\\\":[{\\\"source_id\\\":9,\\\"target_id\\\":20,\\\"type\\\":\\\"CurriculumPrerequisite\\\"},{\\\"source_id\\\":10,\\\"target_id\\\":20,\\\"type\\\":\\\"CurriculumPrerequisite\\\"}],\\\"name\\\":\\\"NROS 307\\\",\\\"metrics\\\":{\\\"complexity\\\":4.0,\\\"centrality\\\":6,\\\"blocking factor\\\":1,\\\"delay factor\\\":3.0},\\\"nameSub\\\":\\\"Cellular Neurophysiology\\\",\\\"id\\\":20,\\\"credits\\\":3,\\\"nameCanonical\\\":\\\"\\\"},{\\\"curriculum_requisites\\\":[{\\\"source_id\\\":15,\\\"target_id\\\":21,\\\"type\\\":\\\"CurriculumPrerequisite\\\"},{\\\"source_id\\\":20,\\\"target_id\\\":21,\\\"type\\\":\\\"CurriculumCorequisite\\\"}],\\\"name\\\":\\\"NSCS 308\\\",\\\"metrics\\\":{\\\"complexity\\\":3.0,\\\"centrality\\\":0,\\\"blocking factor\\\":0,\\\"delay factor\\\":3.0},\\\"nameSub\\\":\\\"Methods in Neuroscience\\\",\\\"id\\\":21,\\\"credits\\\":1,\\\"nameCanonical\\\":\\\"\\\"},{\\\"curriculum_requisites\\\":[{\\\"source_id\\\":15,\\\"target_id\\\":22,\\\"type\\\":\\\"CurriculumPrerequisite\\\"}],\\\"name\\\":\\\"NSCS 320\\\",\\\"metrics\\\":{\\\"complexity\\\":3.0,\\\"centrality\\\":0,\\\"blocking factor\\\":0,\\\"delay factor\\\":3.0},\\\"nameSub\\\":\\\"Issues and Themes in Cognitive Science\\\",\\\"id\\\":22,\\\"credits\\\":3,\\\"nameCanonical\\\":\\\"\\\"},{\\\"curriculum_requisites\\\":[{\\\"source_id\\\":15,\\\"target_id\\\":23,\\\"type\\\":\\\"CurriculumPrerequisite\\\"}],\\\"name\\\":\\\"NSCS 321\\\",\\\"metrics\\\":{\\\"complexity\\\":3.0,\\\"centrality\\\":0,\\\"blocking factor\\\":0,\\\"delay factor\\\":3.0},\\\"nameSub\\\":\\\"Methods in Cognitive Science\\\",\\\"id\\\":23,\\\"credits\\\":1,\\\"nameCanonical\\\":\\\"\\\"},{\\\"curriculum_requisites\\\":[],\\\"name\\\":\\\"NROS 311\\\",\\\"metrics\\\":{\\\"complexity\\\":1.0,\\\"centrality\\\":0,\\\"blocking factor\\\":0,\\\"delay factor\\\":1.0},\\\"nameSub\\\":\\\"Scientific Programming with MATLAB\\\",\\\"id\\\":24,\\\"credits\\\":3,\\\"nameCanonical\\\":\\\"\\\"},{\\\"curriculum_requisites\\\":[],\\\"name\\\":\\\" \\\",\\\"metrics\\\":{\\\"complexity\\\":1.0,\\\"centrality\\\":0,\\\"blocking factor\\\":0,\\\"delay factor\\\":1.0},\\\"nameSub\\\":\\\"Tier II General Education\\\",\\\"id\\\":25,\\\"credits\\\":3,\\\"nameCanonical\\\":\\\"\\\"}],\\\"id\\\":5},{\\\"name\\\":\\\"Term 6\\\",\\\"curriculum_items\\\":[{\\\"curriculum_requisites\\\":[],\\\"name\\\":\\\" \\\",\\\"metrics\\\":{\\\"complexity\\\":1.0,\\\"centrality\\\":0,\\\"blocking factor\\\":0,\\\"delay factor\\\":1.0},\\\"nameSub\\\":\\\"Upper-Division Focus\\\",\\\"id\\\":26,\\\"credits\\\":3,\\\"nameCanonical\\\":\\\"\\\"},{\\\"curriculum_requisites\\\":[],\\\"name\\\":\\\" \\\",\\\"metrics\\\":{\\\"complexity\\\":1.0,\\\"centrality\\\":0,\\\"blocking factor\\\":0,\\\"delay factor\\\":1.0},\\\"nameSub\\\":\\\"Tier II General Education\\\",\\\"id\\\":27,\\\"credits\\\":3,\\\"nameCanonical\\\":\\\"\\\"},{\\\"curriculum_requisites\\\":[],\\\"name\\\":\\\" \\\",\\\"metrics\\\":{\\\"complexity\\\":1.0,\\\"centrality\\\":0,\\\"blocking factor\\\":0,\\\"delay factor\\\":1.0},\\\"nameSub\\\":\\\"Tier II General Education\\\",\\\"id\\\":28,\\\"credits\\\":3,\\\"nameCanonical\\\":\\\"\\\"},{\\\"curriculum_requisites\\\":[],\\\"name\\\":\\\" \\\",\\\"metrics\\\":{\\\"complexity\\\":1.0,\\\"centrality\\\":0,\\\"blocking factor\\\":0,\\\"delay factor\\\":1.0},\\\"nameSub\\\":\\\"Emphasis Elective\\\",\\\"id\\\":29,\\\"credits\\\":3,\\\"nameCanonical\\\":\\\"\\\"},{\\\"curriculum_requisites\\\":[],\\\"name\\\":\\\" \\\",\\\"metrics\\\":{\\\"complexity\\\":1.0,\\\"centrality\\\":0,\\\"blocking factor\\\":0,\\\"delay factor\\\":1.0},\\\"nameSub\\\":\\\"General Elective\\\",\\\"id\\\":30,\\\"credits\\\":3,\\\"nameCanonical\\\":\\\"\\\"}],\\\"id\\\":6},{\\\"name\\\":\\\"Term 7\\\",\\\"curriculum_items\\\":[{\\\"curriculum_requisites\\\":[],\\\"name\\\":\\\" \\\",\\\"metrics\\\":{\\\"complexity\\\":1.0,\\\"centrality\\\":0,\\\"blocking factor\\\":0,\\\"delay factor\\\":1.0},\\\"nameSub\\\":\\\"Introductory Physics\\\",\\\"id\\\":31,\\\"credits\\\":4,\\\"nameCanonical\\\":\\\"\\\"},{\\\"curriculum_requisites\\\":[],\\\"name\\\":\\\" \\\",\\\"metrics\\\":{\\\"complexity\\\":1.0,\\\"centrality\\\":0,\\\"blocking factor\\\":0,\\\"delay factor\\\":1.0},\\\"nameSub\\\":\\\"Tier II General Education\\\",\\\"id\\\":32,\\\"credits\\\":3,\\\"nameCanonical\\\":\\\"\\\"},{\\\"curriculum_requisites\\\":[],\\\"name\\\":\\\" \\\",\\\"metrics\\\":{\\\"complexity\\\":1.0,\\\"centrality\\\":0,\\\"blocking factor\\\":0,\\\"delay factor\\\":1.0},\\\"nameSub\\\":\\\"Emphasis Elective\\\",\\\"id\\\":33,\\\"credits\\\":3,\\\"nameCanonical\\\":\\\"\\\"},{\\\"curriculum_requisites\\\":[],\\\"name\\\":\\\" \\\",\\\"metrics\\\":{\\\"complexity\\\":1.0,\\\"centrality\\\":0,\\\"blocking factor\\\":0,\\\"delay factor\\\":1.0},\\\"nameSub\\\":\\\"Emphasis Elective\\\",\\\"id\\\":34,\\\"credits\\\":3,\\\"nameCanonical\\\":\\\"\\\"},{\\\"curriculum_requisites\\\":[],\\\"name\\\":\\\" \\\",\\\"metrics\\\":{\\\"complexity\\\":1.0,\\\"centrality\\\":0,\\\"blocking factor\\\":0,\\\"delay factor\\\":1.0},\\\"nameSub\\\":\\\"Upper-Division General Elective\\\",\\\"id\\\":35,\\\"credits\\\":3,\\\"nameCanonical\\\":\\\"\\\"}],\\\"id\\\":7},{\\\"name\\\":\\\"Term 8\\\",\\\"curriculum_items\\\":[{\\\"curriculum_requisites\\\":[],\\\"name\\\":\\\" \\\",\\\"metrics\\\":{\\\"complexity\\\":1.0,\\\"centrality\\\":0,\\\"blocking factor\\\":0,\\\"delay factor\\\":1.0},\\\"nameSub\\\":\\\"Upper-Division Focus\\\",\\\"id\\\":36,\\\"credits\\\":3,\\\"nameCanonical\\\":\\\"\\\"},{\\\"curriculum_requisites\\\":[],\\\"name\\\":\\\" \\\",\\\"metrics\\\":{\\\"complexity\\\":1.0,\\\"centrality\\\":0,\\\"blocking factor\\\":0,\\\"delay factor\\\":1.0},\\\"nameSub\\\":\\\"Emphasis Elective\\\",\\\"id\\\":37,\\\"credits\\\":3,\\\"nameCanonical\\\":\\\"\\\"},{\\\"curriculum_requisites\\\":[],\\\"name\\\":\\\" \\\",\\\"metrics\\\":{\\\"complexity\\\":1.0,\\\"centrality\\\":0,\\\"blocking factor\\\":0,\\\"delay factor\\\":1.0},\\\"nameSub\\\":\\\"Emphasis Elective\\\",\\\"id\\\":38,\\\"credits\\\":3,\\\"nameCanonical\\\":\\\"\\\"},{\\\"curriculum_requisites\\\":[],\\\"name\\\":\\\" \\\",\\\"metrics\\\":{\\\"complexity\\\":1.0,\\\"centrality\\\":0,\\\"blocking factor\\\":0,\\\"delay factor\\\":1.0},\\\"nameSub\\\":\\\"Upper-Division General Elective\\\",\\\"id\\\":39,\\\"credits\\\":3,\\\"nameCanonical\\\":\\\"\\\"},{\\\"curriculum_requisites\\\":[],\\\"name\\\":\\\" \\\",\\\"metrics\\\":{\\\"complexity\\\":1.0,\\\"centrality\\\":0,\\\"blocking factor\\\":0,\\\"delay factor\\\":1.0},\\\"nameSub\\\":\\\"Upper-Division General Elective\\\",\\\"id\\\":40,\\\"credits\\\":3,\\\"nameCanonical\\\":\\\"\\\"}],\\\"id\\\":8}],\\\"institution\\\":\\\"\\\"}},\\\"*\\\"); window.removeEventListener(\\\"message\\\",window.messageReceived); window.messageReceived=(function (event){return (event.data.curriculum!==undefined) ? (WebIO.setval({\\\"name\\\":\\\"curriculum-data\\\",\\\"scope\\\":\\\"6368710626540283377\\\",\\\"id\\\":\\\"ob_01\\\",\\\"type\\\":\\\"observable\\\"},event.data.curriculum)) : undefined}); return window.addEventListener(\\\"message\\\",window.messageReceived)})\"},\"style\":{\"padding\":\"0\",\"height\":\"100vh\",\"margin\":\"0\",\"border\":\"none\",\"width\":\"100%\"}},\"nodeType\":\"DOM\",\"type\":\"node\",\"instanceArgs\":{\"namespace\":\"html\",\"tag\":\"iframe\"},\"children\":[\"\"]}]},\n",
       "            window,\n",
       "        );\n",
       "    } else {\n",
       "        document\n",
       "            .querySelector('[data-webio-mountpoint=\"10249715038037682939\"]')\n",
       "            .innerHTML = (\n",
       "                '<div style=\"padding: 1em; background-color: #f8d6da; border: 1px solid #f5c6cb\">' +\n",
       "                '<p><strong>WebIO not detected.</strong></p>' +\n",
       "                '<p>Please read ' +\n",
       "                '<a href=\"https://juliagizmos.github.io/WebIO.jl/latest/troubleshooting/not-detected/\" target=\"_blank\">the troubleshooting guide</a> ' +\n",
       "                'for more information on how to resolve this issue.</p>' +\n",
       "                '<p><a href=\"https://juliagizmos.github.io/WebIO.jl/latest/troubleshooting/not-detected/\" target=\"_blank\">https://juliagizmos.github.io/WebIO.jl/latest/troubleshooting/not-detected/</a></p>' +\n",
       "                '</div>'\n",
       "            );\n",
       "    }\n",
       "    </script>\n",
       "</div>\n"
      ],
      "text/plain": [
       "WebIO.Scope(WebIO.Node{WebIO.DOM}(WebIO.DOM(:html, :iframe), Any[\"\"], Dict{Symbol,Any}(:src => \"http://localhost:8156\",:id => \"curriculum\",:events => Dict(:load => WebIO.JSString(\"(function (){this.contentWindow.postMessage({\\\"options\\\":{\\\"hideTerms\\\":false,\\\"edit\\\":false},\\\"curriculum\\\":{\\\"name\\\":\\\"Neuroscience and Cognitive Science\\\",\\\"dp_name\\\":\\\"2019-20 Degree Plan\\\",\\\"curriculum_terms\\\":[{\\\"name\\\":\\\"Term 1\\\",\\\"curriculum_items\\\":[{\\\"curriculum_requisites\\\":[],\\\"name\\\":\\\"ENGL 101\\\",\\\"metrics\\\":{\\\"complexity\\\":3.0,\\\"centrality\\\":0,\\\"blocking factor\\\":1,\\\"delay factor\\\":2.0},\\\"nameSub\\\":\\\"First-Year Composition\\\",\\\"id\\\":1,\\\"credits\\\":3,\\\"nameCanonical\\\":\\\"\\\"},{\\\"curriculum_requisites\\\":[],\\\"name\\\":\\\" \\\",\\\"metrics\\\":{\\\"complexity\\\":1.0,\\\"centrality\\\":0,\\\"blocking factor\\\":0,\\\"delay factor\\\":1.0},\\\"nameSub\\\":\\\"Second Language\\\",\\\"id\\\":2,\\\"credits\\\":4,\\\"nameCanonical\\\":\\\"\\\"},{\\\"curriculum_requisites\\\":[],\\\"name\\\":\\\" \\\",\\\"metrics\\\":{\\\"complexity\\\":1.0,\\\"centrality\\\":0,\\\"blocking factor\\\":0,\\\"delay factor\\\":1.0},\\\"nameSub\\\":\\\"First-Semester Chemistry\\\",\\\"id\\\":3,\\\"credits\\\":4,\\\"nameCanonical\\\":\\\"\\\"},{\\\"curriculum_requisites\\\":[],\\\"name\\\":\\\"MATH 122A/B\\\",\\\"metrics\\\":{\\\"complexity\\\":1.0,\\\"centrality\\\":0,\\\"blocking factor\\\":0,\\\"delay factor\\\":1.0},\\\"nameSub\\\":\\\"Calculus I\\\",\\\"id\\\":4,\\\"credits\\\":4,\\\"nameCanonical\\\":\\\"\\\"}],\\\"id\\\":1},{\\\"name\\\":\\\"Term 2\\\",\\\"curriculum_items\\\":[{\\\"curriculum_requisites\\\":[{\\\"source_id\\\":1,\\\"target_id\\\":5,\\\"type\\\":\\\"CurriculumPrerequisite\\\"}],\\\"name\\\":\\\"ENGL 102\\\",\\\"metrics\\\":{\\\"complexity\\\":2.0,\\\"centrality\\\":0,\\\"blocking factor\\\":0,\\\"delay factor\\\":2.0},\\\"nameSub\\\":\\\"First-Year Composition\\\",\\\"id\\\":5,\\\"credits\\\":3,\\\"nameCanonical\\\":\\\"\\\"},{\\\"curriculum_requisites\\\":[],\\\"name\\\":\\\" \\\",\\\"metrics\\\":{\\\"complexity\\\":1.0,\\\"centrality\\\":0,\\\"blocking factor\\\":0,\\\"delay factor\\\":1.0},\\\"nameSub\\\":\\\"Second Language\\\",\\\"id\\\":6,\\\"credits\\\":4,\\\"nameCanonical\\\":\\\"\\\"},{\\\"curriculum_requisites\\\":[],\\\"name\\\":\\\" \\\",\\\"metrics\\\":{\\\"complexity\\\":1.0,\\\"centrality\\\":0,\\\"blocking factor\\\":0,\\\"delay factor\\\":1.0},\\\"nameSub\\\":\\\"Tier I General Education\\\",\\\"id\\\":7,\\\"credits\\\":3,\\\"nameCanonical\\\":\\\"\\\"},{\\\"curriculum_requisites\\\":[],\\\"name\\\":\\\" \\\",\\\"metrics\\\":{\\\"complexity\\\":1.0,\\\"centrality\\\":0,\\\"blocking factor\\\":0,\\\"delay factor\\\":1.0},\\\"nameSub\\\":\\\"Foundation Focus\\\",\\\"id\\\":8,\\\"credits\\\":3,\\\"nameCanonical\\\":\\\"\\\"}],\\\"id\\\":2},{\\\"name\\\":\\\"Term 3\\\",\\\"curriculum_items\\\":[{\\\"curriculum_requisites\\\":[],\\\"name\\\":\\\"MCB 181R\\\",\\\"metrics\\\":{\\\"complexity\\\":8.0,\\\"centrality\\\":0,\\\"blocking factor\\\":5,\\\"delay factor\\\":3.0},\\\"nameSub\\\":\\\"Introductory Biology I\\\",\\\"id\\\":9,\\\"credits\\\":3,\\\"nameCanonical\\\":\\\"\\\"},{\\\"curriculum_requisites\\\":[],\\\"name\\\":\\\"MCB 181L\\\",\\\"metrics\\\":{\\\"complexity\\\":5.0,\\\"centrality\\\":0,\\\"blocking factor\\\":2,\\\"delay factor\\\":3.0},\\\"nameSub\\\":\\\"Introductory Biology Laboratory I\\\",\\\"id\\\":10,\\\"credits\\\":1,\\\"nameCanonical\\\":\\\"\\\"},{\\\"curriculum_requisites\\\":[],\\\"name\\\":\\\" \\\",\\\"metrics\\\":{\\\"complexity\\\":1.0,\\\"centrality\\\":0,\\\"blocking factor\\\":0,\\\"delay factor\\\":1.0},\\\"nameSub\\\":\\\"Statistics\\\",\\\"id\\\":11,\\\"credits\\\":3,\\\"nameCanonical\\\":\\\"\\\"},{\\\"curriculum_requisites\\\":[],\\\"name\\\":\\\" \\\",\\\"metrics\\\":{\\\"complexity\\\":1.0,\\\"centrality\\\":0,\\\"blocking factor\\\":0,\\\"delay factor\\\":1.0},\\\"nameSub\\\":\\\"Tier I General Education\\\",\\\"id\\\":12,\\\"credits\\\":3,\\\"nameCanonical\\\":\\\"\\\"},{\\\"curriculum_requisites\\\":[],\\\"name\\\":\\\" \\\",\\\"metrics\\\":{\\\"complexity\\\":1.0,\\\"centrality\\\":0,\\\"blocking factor\\\":0,\\\"delay factor\\\":1.0},\\\"nameSub\\\":\\\"Tier I General Education\\\",\\\"id\\\":13,\\\"credits\\\":3,\\\"nameCanonical\\\":\\\"\\\"},{\\\"curriculum_requisites\\\":[],\\\"name\\\":\\\" \\\",\\\"metrics\\\":{\\\"complexity\\\":1.0,\\\"centrality\\\":0,\\\"blocking factor\\\":0,\\\"delay factor\\\":1.0},\\\"nameSub\\\":\\\"Foundation Focus\\\",\\\"id\\\":14,\\\"credits\\\":3,\\\"nameCanonical\\\":\\\"\\\"}],\\\"id\\\":3},{\\\"name\\\":\\\"Term 4\\\",\\\"curriculum_items\\\":[{\\\"curriculum_requisites\\\":[{\\\"source_id\\\":9,\\\"target_id\\\":15,\\\"type\\\":\\\"CurriculumPrerequisite\\\"}],\\\"name\\\":\\\"NSCS 200\\\",\\\"metrics\\\":{\\\"complexity\\\":6.0,\\\"centrality\\\":9,\\\"blocking factor\\\":3,\\\"delay factor\\\":3.0},\\\"nameSub\\\":\\\"Fundamentals of Neuroscience and Cognitive Science\\\",\\\"id\\\":15,\\\"credits\\\":3,\\\"nameCanonical\\\":\\\"\\\"},{\\\"curriculum_requisites\\\":[],\\\"name\\\":\\\" \\\",\\\"metrics\\\":{\\\"complexity\\\":1.0,\\\"centrality\\\":0,\\\"blocking factor\\\":0,\\\"delay factor\\\":1.0},\\\"nameSub\\\":\\\"Tier I General Education\\\",\\\"id\\\":16,\\\"credits\\\":3,\\\"nameCanonical\\\":\\\"\\\"},{\\\"curriculum_requisites\\\":[],\\\"name\\\":\\\"PHIL 241\\\",\\\"metrics\\\":{\\\"complexity\\\":1.0,\\\"centrality\\\":0,\\\"blocking factor\\\":0,\\\"delay factor\\\":1.0},\\\"nameSub\\\":\\\"Consciousness and Cognition\\\",\\\"id\\\":17,\\\"credits\\\":3,\\\"nameCanonical\\\":\\\"\\\"},{\\\"curriculum_requisites\\\":[],\\\"name\\\":\\\" \\\",\\\"metrics\\\":{\\\"complexity\\\":1.0,\\\"centrality\\\":0,\\\"blocking factor\\\":0,\\\"delay factor\\\":1.0},\\\"nameSub\\\":\\\"Foundation Focus\\\",\\\"id\\\":18,\\\"credits\\\":3,\\\"nameCanonical\\\":\\\"\\\"},{\\\"curriculum_requisites\\\":[],\\\"name\\\":\\\" \\\",\\\"metrics\\\":{\\\"complexity\\\":1.0,\\\"centrality\\\":0,\\\"blocking factor\\\":0,\\\"delay factor\\\":1.0},\\\"nameSub\\\":\\\"General Elective\\\",\\\"id\\\":19,\\\"credits\\\":3,\\\"nameCanonical\\\":\\\"\\\"}],\\\"id\\\":4},{\\\"name\\\":\\\"Term 5\\\",\\\"curriculum_items\\\":[{\\\"curriculum_requisites\\\":[{\\\"source_id\\\":9,\\\"target_id\\\":20,\\\"type\\\":\\\"CurriculumPrerequisite\\\"},{\\\"source_id\\\":10,\\\"target_id\\\":20,\\\"type\\\":\\\"CurriculumPrerequisite\\\"}],\\\"name\\\":\\\"NROS 307\\\",\\\"metrics\\\":{\\\"complexity\\\":4.0,\\\"centrality\\\":6,\\\"blocking factor\\\":1,\\\"delay factor\\\":3.0},\\\"nameSub\\\":\\\"Cellular Neurophysiology\\\",\\\"id\\\":20,\\\"credits\\\":3,\\\"nameCanonical\\\":\\\"\\\"},{\\\"curriculum_requisites\\\":[{\\\"source_id\\\":15,\\\"target_id\\\":21,\\\"type\\\":\\\"CurriculumPrerequisite\\\"},{\\\"source_id\\\":20,\\\"target_id\\\":21,\\\"type\\\":\\\"CurriculumCorequisite\\\"}],\\\"name\\\":\\\"NSCS 308\\\",\\\"metrics\\\":{\\\"complexity\\\":3.0,\\\"centrality\\\":0,\\\"blocking factor\\\":0,\\\"delay factor\\\":3.0},\\\"nameSub\\\":\\\"Methods in Neuroscience\\\",\\\"id\\\":21,\\\"credits\\\":1,\\\"nameCanonical\\\":\\\"\\\"},{\\\"curriculum_requisites\\\":[{\\\"source_id\\\":15,\\\"target_id\\\":22,\\\"type\\\":\\\"CurriculumPrerequisite\\\"}],\\\"name\\\":\\\"NSCS 320\\\",\\\"metrics\\\":{\\\"complexity\\\":3.0,\\\"centrality\\\":0,\\\"blocking factor\\\":0,\\\"delay factor\\\":3.0},\\\"nameSub\\\":\\\"Issues and Themes in Cognitive Science\\\",\\\"id\\\":22,\\\"credits\\\":3,\\\"nameCanonical\\\":\\\"\\\"},{\\\"curriculum_requisites\\\":[{\\\"source_id\\\":15,\\\"target_id\\\":23,\\\"type\\\":\\\"CurriculumPrerequisite\\\"}],\\\"name\\\":\\\"NSCS 321\\\",\\\"metrics\\\":{\\\"complexity\\\":3.0,\\\"centrality\\\":0,\\\"blocking factor\\\":0,\\\"delay factor\\\":3.0},\\\"nameSub\\\":\\\"Methods in Cognitive Science\\\",\\\"id\\\":23,\\\"credits\\\":1,\\\"nameCanonical\\\":\\\"\\\"},{\\\"curriculum_requisites\\\":[],\\\"name\\\":\\\"NROS 311\\\",\\\"metrics\\\":{\\\"complexity\\\":1.0,\\\"centrality\\\":0,\\\"blocking factor\\\":0,\\\"delay factor\\\":1.0},\\\"nameSub\\\":\\\"Scientific Programming with MATLAB\\\",\\\"id\\\":24,\\\"credits\\\":3,\\\"nameCanonical\\\":\\\"\\\"},{\\\"curriculum_requisites\\\":[],\\\"name\\\":\\\" \\\",\\\"metrics\\\":{\\\"complexity\\\":1.0,\\\"centrality\\\":0,\\\"blocking factor\\\":0,\\\"delay factor\\\":1.0},\\\"nameSub\\\":\\\"Tier II General Education\\\",\\\"id\\\":25,\\\"credits\\\":3,\\\"nameCanonical\\\":\\\"\\\"}],\\\"id\\\":5},{\\\"name\\\":\\\"Term 6\\\",\\\"curriculum_items\\\":[{\\\"curriculum_requisites\\\":[],\\\"name\\\":\\\" \\\",\\\"metrics\\\":{\\\"complexity\\\":1.0,\\\"centrality\\\":0,\\\"blocking factor\\\":0,\\\"delay factor\\\":1.0},\\\"nameSub\\\":\\\"Upper-Division Focus\\\",\\\"id\\\":26,\\\"credits\\\":3,\\\"nameCanonical\\\":\\\"\\\"},{\\\"curriculum_requisites\\\":[],\\\"name\\\":\\\" \\\",\\\"metrics\\\":{\\\"complexity\\\":1.0,\\\"centrality\\\":0,\\\"blocking factor\\\":0,\\\"delay factor\\\":1.0},\\\"nameSub\\\":\\\"Tier II General Education\\\",\\\"id\\\":27,\\\"credits\\\":3,\\\"nameCanonical\\\":\\\"\\\"},{\\\"curriculum_requisites\\\":[],\\\"name\\\":\\\" \\\",\\\"metrics\\\":{\\\"complexity\\\":1.0,\\\"centrality\\\":0,\\\"blocking factor\\\":0,\\\"delay factor\\\":1.0},\\\"nameSub\\\":\\\"Tier II General Education\\\",\\\"id\\\":28,\\\"credits\\\":3,\\\"nameCanonical\\\":\\\"\\\"},{\\\"curriculum_requisites\\\":[],\\\"name\\\":\\\" \\\",\\\"metrics\\\":{\\\"complexity\\\":1.0,\\\"centrality\\\":0,\\\"blocking factor\\\":0,\\\"delay factor\\\":1.0},\\\"nameSub\\\":\\\"Emphasis Elective\\\",\\\"id\\\":29,\\\"credits\\\":3,\\\"nameCanonical\\\":\\\"\\\"},{\\\"curriculum_requisites\\\":[],\\\"name\\\":\\\" \\\",\\\"metrics\\\":{\\\"complexity\\\":1.0,\\\"centrality\\\":0,\\\"blocking factor\\\":0,\\\"delay factor\\\":1.0},\\\"nameSub\\\":\\\"General Elective\\\",\\\"id\\\":30,\\\"credits\\\":3,\\\"nameCanonical\\\":\\\"\\\"}],\\\"id\\\":6},{\\\"name\\\":\\\"Term 7\\\",\\\"curriculum_items\\\":[{\\\"curriculum_requisites\\\":[],\\\"name\\\":\\\" \\\",\\\"metrics\\\":{\\\"complexity\\\":1.0,\\\"centrality\\\":0,\\\"blocking factor\\\":0,\\\"delay factor\\\":1.0},\\\"nameSub\\\":\\\"Introductory Physics\\\",\\\"id\\\":31,\\\"credits\\\":4,\\\"nameCanonical\\\":\\\"\\\"},{\\\"curriculum_requisites\\\":[],\\\"name\\\":\\\" \\\",\\\"metrics\\\":{\\\"complexity\\\":1.0,\\\"centrality\\\":0,\\\"blocking factor\\\":0,\\\"delay factor\\\":1.0},\\\"nameSub\\\":\\\"Tier II General Education\\\",\\\"id\\\":32,\\\"credits\\\":3,\\\"nameCanonical\\\":\\\"\\\"},{\\\"curriculum_requisites\\\":[],\\\"name\\\":\\\" \\\",\\\"metrics\\\":{\\\"complexity\\\":1.0,\\\"centrality\\\":0,\\\"blocking factor\\\":0,\\\"delay factor\\\":1.0},\\\"nameSub\\\":\\\"Emphasis Elective\\\",\\\"id\\\":33,\\\"credits\\\":3,\\\"nameCanonical\\\":\\\"\\\"},{\\\"curriculum_requisites\\\":[],\\\"name\\\":\\\" \\\",\\\"metrics\\\":{\\\"complexity\\\":1.0,\\\"centrality\\\":0,\\\"blocking factor\\\":0,\\\"delay factor\\\":1.0},\\\"nameSub\\\":\\\"Emphasis Elective\\\",\\\"id\\\":34,\\\"credits\\\":3,\\\"nameCanonical\\\":\\\"\\\"},{\\\"curriculum_requisites\\\":[],\\\"name\\\":\\\" \\\",\\\"metrics\\\":{\\\"complexity\\\":1.0,\\\"centrality\\\":0,\\\"blocking factor\\\":0,\\\"delay factor\\\":1.0},\\\"nameSub\\\":\\\"Upper-Division General Elective\\\",\\\"id\\\":35,\\\"credits\\\":3,\\\"nameCanonical\\\":\\\"\\\"}],\\\"id\\\":7},{\\\"name\\\":\\\"Term 8\\\",\\\"curriculum_items\\\":[{\\\"curriculum_requisites\\\":[],\\\"name\\\":\\\" \\\",\\\"metrics\\\":{\\\"complexity\\\":1.0,\\\"centrality\\\":0,\\\"blocking factor\\\":0,\\\"delay factor\\\":1.0},\\\"nameSub\\\":\\\"Upper-Division Focus\\\",\\\"id\\\":36,\\\"credits\\\":3,\\\"nameCanonical\\\":\\\"\\\"},{\\\"curriculum_requisites\\\":[],\\\"name\\\":\\\" \\\",\\\"metrics\\\":{\\\"complexity\\\":1.0,\\\"centrality\\\":0,\\\"blocking factor\\\":0,\\\"delay factor\\\":1.0},\\\"nameSub\\\":\\\"Emphasis Elective\\\",\\\"id\\\":37,\\\"credits\\\":3,\\\"nameCanonical\\\":\\\"\\\"},{\\\"curriculum_requisites\\\":[],\\\"name\\\":\\\" \\\",\\\"metrics\\\":{\\\"complexity\\\":1.0,\\\"centrality\\\":0,\\\"blocking factor\\\":0,\\\"delay factor\\\":1.0},\\\"nameSub\\\":\\\"Emphasis Elective\\\",\\\"id\\\":38,\\\"credits\\\":3,\\\"nameCanonical\\\":\\\"\\\"},{\\\"curriculum_requisites\\\":[],\\\"name\\\":\\\" \\\",\\\"metrics\\\":{\\\"complexity\\\":1.0,\\\"centrality\\\":0,\\\"blocking factor\\\":0,\\\"delay factor\\\":1.0},\\\"nameSub\\\":\\\"Upper-Division General Elective\\\",\\\"id\\\":39,\\\"credits\\\":3,\\\"nameCanonical\\\":\\\"\\\"},{\\\"curriculum_requisites\\\":[],\\\"name\\\":\\\" \\\",\\\"metrics\\\":{\\\"complexity\\\":1.0,\\\"centrality\\\":0,\\\"blocking factor\\\":0,\\\"delay factor\\\":1.0},\\\"nameSub\\\":\\\"Upper-Division General Elective\\\",\\\"id\\\":40,\\\"credits\\\":3,\\\"nameCanonical\\\":\\\"\\\"}],\\\"id\\\":8}],\\\"institution\\\":\\\"\\\"}},\\\"*\\\"); window.removeEventListener(\\\"message\\\",window.messageReceived); window.messageReceived=(function (event){return (event.data.curriculum!==undefined) ? (WebIO.setval({\\\"name\\\":\\\"curriculum-data\\\",\\\"scope\\\":\\\"6368710626540283377\\\",\\\"id\\\":\\\"ob_01\\\",\\\"type\\\":\\\"observable\\\"},event.data.curriculum)) : undefined}); return window.addEventListener(\\\"message\\\",window.messageReceived)})\")),:style => Dict(:padding => \"0\",:height => \"100vh\",:margin => \"0\",:border => \"none\",:width => \"100%\"))), Dict{String,Tuple{Observables.AbstractObservable,Union{Nothing, Bool}}}(\"curriculum-data\" => (Observable{Dict{String,Any}} with 1 listeners. Value:\n",
       "Dict{String,Any}(\"options\" => Dict{String,Any}(\"hideTerms\" => false,\"edit\" => false),\"curriculum\" => Dict{String,Any}(\"name\" => \"Neuroscience and Cognitive Science\",\"dp_name\" => \"2019-20 Degree Plan\",\"curriculum_terms\" => Dict{String,Any}[Dict(\"name\" => \"Term 1\",\"curriculum_items\" => Dict{String,Any}[Dict(\"curriculum_requisites\" => Dict{String,Any}[],\"name\" => \"ENGL 101\",\"metrics\" => Dict{String,Any}(\"complexity\" => 3.0,\"centrality\" => 0,\"blocking factor\" => 1,\"delay factor\" => 2.0),\"nameSub\" => \"First-Year Composition\",\"id\" => 1,\"credits\" => 3,\"nameCanonical\" => \"\"), Dict(\"curriculum_requisites\" => Dict{String,Any}[],\"name\" => \" \",\"metrics\" => Dict{String,Any}(\"complexity\" => 1.0,\"centrality\" => 0,\"blocking factor\" => 0,\"delay factor\" => 1.0),\"nameSub\" => \"Second Language\",\"id\" => 2,\"credits\" => 4,\"nameCanonical\" => \"\"), Dict(\"curriculum_requisites\" => Dict{String,Any}[],\"name\" => \" \",\"metrics\" => Dict{String,Any}(\"complexity\" => 1.0,\"centrality\" => 0,\"blocking factor\" => 0,\"delay factor\" => 1.0),\"nameSub\" => \"First-Semester Chemistry\",\"id\" => 3,\"credits\" => 4,\"nameCanonical\" => \"\"), Dict(\"curriculum_requisites\" => Dict{String,Any}[],\"name\" => \"MATH 122A/B\",\"metrics\" => Dict{String,Any}(\"complexity\" => 1.0,\"centrality\" => 0,\"blocking factor\" => 0,\"delay factor\" => 1.0),\"nameSub\" => \"Calculus I\",\"id\" => 4,\"credits\" => 4,\"nameCanonical\" => \"\")],\"id\" => 1), Dict(\"name\" => \"Term 2\",\"curriculum_items\" => Dict{String,Any}[Dict(\"curriculum_requisites\" => Dict{String,Any}[Dict(\"source_id\" => 1,\"target_id\" => 5,\"type\" => \"CurriculumPrerequisite\")],\"name\" => \"ENGL 102\",\"metrics\" => Dict{String,Any}(\"complexity\" => 2.0,\"centrality\" => 0,\"blocking factor\" => 0,\"delay factor\" => 2.0),\"nameSub\" => \"First-Year Composition\",\"id\" => 5,\"credits\" => 3,\"nameCanonical\" => \"\"), Dict(\"curriculum_requisites\" => Dict{String,Any}[],\"name\" => \" \",\"metrics\" => Dict{String,Any}(\"complexity\" => 1.0,\"centrality\" => 0,\"blocking factor\" => 0,\"delay factor\" => 1.0),\"nameSub\" => \"Second Language\",\"id\" => 6,\"credits\" => 4,\"nameCanonical\" => \"\"), Dict(\"curriculum_requisites\" => Dict{String,Any}[],\"name\" => \" \",\"metrics\" => Dict{String,Any}(\"complexity\" => 1.0,\"centrality\" => 0,\"blocking factor\" => 0,\"delay factor\" => 1.0),\"nameSub\" => \"Tier I General Education\",\"id\" => 7,\"credits\" => 3,\"nameCanonical\" => \"\"), Dict(\"curriculum_requisites\" => Dict{String,Any}[],\"name\" => \" \",\"metrics\" => Dict{String,Any}(\"complexity\" => 1.0,\"centrality\" => 0,\"blocking factor\" => 0,\"delay factor\" => 1.0),\"nameSub\" => \"Foundation Focus\",\"id\" => 8,\"credits\" => 3,\"nameCanonical\" => \"\")],\"id\" => 2), Dict(\"name\" => \"Term 3\",\"curriculum_items\" => Dict{String,Any}[Dict(\"curriculum_requisites\" => Dict{String,Any}[],\"name\" => \"MCB 181R\",\"metrics\" => Dict{String,Any}(\"complexity\" => 8.0,\"centrality\" => 0,\"blocking factor\" => 5,\"delay factor\" => 3.0),\"nameSub\" => \"Introductory Biology I\",\"id\" => 9,\"credits\" => 3,\"nameCanonical\" => \"\"), Dict(\"curriculum_requisites\" => Dict{String,Any}[],\"name\" => \"MCB 181L\",\"metrics\" => Dict{String,Any}(\"complexity\" => 5.0,\"centrality\" => 0,\"blocking factor\" => 2,\"delay factor\" => 3.0),\"nameSub\" => \"Introductory Biology Laboratory I\",\"id\" => 10,\"credits\" => 1,\"nameCanonical\" => \"\"), Dict(\"curriculum_requisites\" => Dict{String,Any}[],\"name\" => \" \",\"metrics\" => Dict{String,Any}(\"complexity\" => 1.0,\"centrality\" => 0,\"blocking factor\" => 0,\"delay factor\" => 1.0),\"nameSub\" => \"Statistics\",\"id\" => 11,\"credits\" => 3,\"nameCanonical\" => \"\"), Dict(\"curriculum_requisites\" => Dict{String,Any}[],\"name\" => \" \",\"metrics\" => Dict{String,Any}(\"complexity\" => 1.0,\"centrality\" => 0,\"blocking factor\" => 0,\"delay factor\" => 1.0),\"nameSub\" => \"Tier I General Education\",\"id\" => 12,\"credits\" => 3,\"nameCanonical\" => \"\"), Dict(\"curriculum_requisites\" => Dict{String,Any}[],\"name\" => \" \",\"metrics\" => Dict{String,Any}(\"complexity\" => 1.0,\"centrality\" => 0,\"blocking factor\" => 0,\"delay factor\" => 1.0),\"nameSub\" => \"Tier I General Education\",\"id\" => 13,\"credits\" => 3,\"nameCanonical\" => \"\"), Dict(\"curriculum_requisites\" => Dict{String,Any}[],\"name\" => \" \",\"metrics\" => Dict{String,Any}(\"complexity\" => 1.0,\"centrality\" => 0,\"blocking factor\" => 0,\"delay factor\" => 1.0),\"nameSub\" => \"Foundation Focus\",\"id\" => 14,\"credits\" => 3,\"nameCanonical\" => \"\")],\"id\" => 3), Dict(\"name\" => \"Term 4\",\"curriculum_items\" => Dict{String,Any}[Dict(\"curriculum_requisites\" => Dict{String,Any}[Dict(\"source_id\" => 9,\"target_id\" => 15,\"type\" => \"CurriculumPrerequisite\")],\"name\" => \"NSCS 200\",\"metrics\" => Dict{String,Any}(\"complexity\" => 6.0,\"centrality\" => 9,\"blocking factor\" => 3,\"delay factor\" => 3.0),\"nameSub\" => \"Fundamentals of Neuroscience and Cognitive Science\",\"id\" => 15,\"credits\" => 3,\"nameCanonical\" => \"\"), Dict(\"curriculum_requisites\" => Dict{String,Any}[],\"name\" => \" \",\"metrics\" => Dict{String,Any}(\"complexity\" => 1.0,\"centrality\" => 0,\"blocking factor\" => 0,\"delay factor\" => 1.0),\"nameSub\" => \"Tier I General Education\",\"id\" => 16,\"credits\" => 3,\"nameCanonical\" => \"\"), Dict(\"curriculum_requisites\" => Dict{String,Any}[],\"name\" => \"PHIL 241\",\"metrics\" => Dict{String,Any}(\"complexity\" => 1.0,\"centrality\" => 0,\"blocking factor\" => 0,\"delay factor\" => 1.0),\"nameSub\" => \"Consciousness and Cognition\",\"id\" => 17,\"credits\" => 3,\"nameCanonical\" => \"\"), Dict(\"curriculum_requisites\" => Dict{String,Any}[],\"name\" => \" \",\"metrics\" => Dict{String,Any}(\"complexity\" => 1.0,\"centrality\" => 0,\"blocking factor\" => 0,\"delay factor\" => 1.0),\"nameSub\" => \"Foundation Focus\",\"id\" => 18,\"credits\" => 3,\"nameCanonical\" => \"\"), Dict(\"curriculum_requisites\" => Dict{String,Any}[],\"name\" => \" \",\"metrics\" => Dict{String,Any}(\"complexity\" => 1.0,\"centrality\" => 0,\"blocking factor\" => 0,\"delay factor\" => 1.0),\"nameSub\" => \"General Elective\",\"id\" => 19,\"credits\" => 3,\"nameCanonical\" => \"\")],\"id\" => 4), Dict(\"name\" => \"Term 5\",\"curriculum_items\" => Dict{String,Any}[Dict(\"curriculum_requisites\" => Dict{String,Any}[Dict(\"source_id\" => 9,\"target_id\" => 20,\"type\" => \"CurriculumPrerequisite\"), Dict(\"source_id\" => 10,\"target_id\" => 20,\"type\" => \"CurriculumPrerequisite\")],\"name\" => \"NROS 307\",\"metrics\" => Dict{String,Any}(\"complexity\" => 4.0,\"centrality\" => 6,\"blocking factor\" => 1,\"delay factor\" => 3.0),\"nameSub\" => \"Cellular Neurophysiology\",\"id\" => 20,\"credits\" => 3,\"nameCanonical\" => \"\"), Dict(\"curriculum_requisites\" => Dict{String,Any}[Dict(\"source_id\" => 15,\"target_id\" => 21,\"type\" => \"CurriculumPrerequisite\"), Dict(\"source_id\" => 20,\"target_id\" => 21,\"type\" => \"CurriculumCorequisite\")],\"name\" => \"NSCS 308\",\"metrics\" => Dict{String,Any}(\"complexity\" => 3.0,\"centrality\" => 0,\"blocking factor\" => 0,\"delay factor\" => 3.0),\"nameSub\" => \"Methods in Neuroscience\",\"id\" => 21,\"credits\" => 1,\"nameCanonical\" => \"\"), Dict(\"curriculum_requisites\" => Dict{String,Any}[Dict(\"source_id\" => 15,\"target_id\" => 22,\"type\" => \"CurriculumPrerequisite\")],\"name\" => \"NSCS 320\",\"metrics\" => Dict{String,Any}(\"complexity\" => 3.0,\"centrality\" => 0,\"blocking factor\" => 0,\"delay factor\" => 3.0),\"nameSub\" => \"Issues and Themes in Cognitive Science\",\"id\" => 22,\"credits\" => 3,\"nameCanonical\" => \"\"), Dict(\"curriculum_requisites\" => Dict{String,Any}[Dict(\"source_id\" => 15,\"target_id\" => 23,\"type\" => \"CurriculumPrerequisite\")],\"name\" => \"NSCS 321\",\"metrics\" => Dict{String,Any}(\"complexity\" => 3.0,\"centrality\" => 0,\"blocking factor\" => 0,\"delay factor\" => 3.0),\"nameSub\" => \"Methods in Cognitive Science\",\"id\" => 23,\"credits\" => 1,\"nameCanonical\" => \"\"), Dict(\"curriculum_requisites\" => Dict{String,Any}[],\"name\" => \"NROS 311\",\"metrics\" => Dict{String,Any}(\"complexity\" => 1.0,\"centrality\" => 0,\"blocking factor\" => 0,\"delay factor\" => 1.0),\"nameSub\" => \"Scientific Programming with MATLAB\",\"id\" => 24,\"credits\" => 3,\"nameCanonical\" => \"\"), Dict(\"curriculum_requisites\" => Dict{String,Any}[],\"name\" => \" \",\"metrics\" => Dict{String,Any}(\"complexity\" => 1.0,\"centrality\" => 0,\"blocking factor\" => 0,\"delay factor\" => 1.0),\"nameSub\" => \"Tier II General Education\",\"id\" => 25,\"credits\" => 3,\"nameCanonical\" => \"\")],\"id\" => 5), Dict(\"name\" => \"Term 6\",\"curriculum_items\" => Dict{String,Any}[Dict(\"curriculum_requisites\" => Dict{String,Any}[],\"name\" => \" \",\"metrics\" => Dict{String,Any}(\"complexity\" => 1.0,\"centrality\" => 0,\"blocking factor\" => 0,\"delay factor\" => 1.0),\"nameSub\" => \"Upper-Division Focus\",\"id\" => 26,\"credits\" => 3,\"nameCanonical\" => \"\"), Dict(\"curriculum_requisites\" => Dict{String,Any}[],\"name\" => \" \",\"metrics\" => Dict{String,Any}(\"complexity\" => 1.0,\"centrality\" => 0,\"blocking factor\" => 0,\"delay factor\" => 1.0),\"nameSub\" => \"Tier II General Education\",\"id\" => 27,\"credits\" => 3,\"nameCanonical\" => \"\"), Dict(\"curriculum_requisites\" => Dict{String,Any}[],\"name\" => \" \",\"metrics\" => Dict{String,Any}(\"complexity\" => 1.0,\"centrality\" => 0,\"blocking factor\" => 0,\"delay factor\" => 1.0),\"nameSub\" => \"Tier II General Education\",\"id\" => 28,\"credits\" => 3,\"nameCanonical\" => \"\"), Dict(\"curriculum_requisites\" => Dict{String,Any}[],\"name\" => \" \",\"metrics\" => Dict{String,Any}(\"complexity\" => 1.0,\"centrality\" => 0,\"blocking factor\" => 0,\"delay factor\" => 1.0),\"nameSub\" => \"Emphasis Elective\",\"id\" => 29,\"credits\" => 3,\"nameCanonical\" => \"\"), Dict(\"curriculum_requisites\" => Dict{String,Any}[],\"name\" => \" \",\"metrics\" => Dict{String,Any}(\"complexity\" => 1.0,\"centrality\" => 0,\"blocking factor\" => 0,\"delay factor\" => 1.0),\"nameSub\" => \"General Elective\",\"id\" => 30,\"credits\" => 3,\"nameCanonical\" => \"\")],\"id\" => 6), Dict(\"name\" => \"Term 7\",\"curriculum_items\" => Dict{String,Any}[Dict(\"curriculum_requisites\" => Dict{String,Any}[],\"name\" => \" \",\"metrics\" => Dict{String,Any}(\"complexity\" => 1.0,\"centrality\" => 0,\"blocking factor\" => 0,\"delay factor\" => 1.0),\"nameSub\" => \"Introductory Physics\",\"id\" => 31,\"credits\" => 4,\"nameCanonical\" => \"\"), Dict(\"curriculum_requisites\" => Dict{String,Any}[],\"name\" => \" \",\"metrics\" => Dict{String,Any}(\"complexity\" => 1.0,\"centrality\" => 0,\"blocking factor\" => 0,\"delay factor\" => 1.0),\"nameSub\" => \"Tier II General Education\",\"id\" => 32,\"credits\" => 3,\"nameCanonical\" => \"\"), Dict(\"curriculum_requisites\" => Dict{String,Any}[],\"name\" => \" \",\"metrics\" => Dict{String,Any}(\"complexity\" => 1.0,\"centrality\" => 0,\"blocking factor\" => 0,\"delay factor\" => 1.0),\"nameSub\" => \"Emphasis Elective\",\"id\" => 33,\"credits\" => 3,\"nameCanonical\" => \"\"), Dict(\"curriculum_requisites\" => Dict{String,Any}[],\"name\" => \" \",\"metrics\" => Dict{String,Any}(\"complexity\" => 1.0,\"centrality\" => 0,\"blocking factor\" => 0,\"delay factor\" => 1.0),\"nameSub\" => \"Emphasis Elective\",\"id\" => 34,\"credits\" => 3,\"nameCanonical\" => \"\"), Dict(\"curriculum_requisites\" => Dict{String,Any}[],\"name\" => \" \",\"metrics\" => Dict{String,Any}(\"complexity\" => 1.0,\"centrality\" => 0,\"blocking factor\" => 0,\"delay factor\" => 1.0),\"nameSub\" => \"Upper-Division General Elective\",\"id\" => 35,\"credits\" => 3,\"nameCanonical\" => \"\")],\"id\" => 7), Dict(\"name\" => \"Term 8\",\"curriculum_items\" => Dict{String,Any}[Dict(\"curriculum_requisites\" => Dict{String,Any}[],\"name\" => \" \",\"metrics\" => Dict{String,Any}(\"complexity\" => 1.0,\"centrality\" => 0,\"blocking factor\" => 0,\"delay factor\" => 1.0),\"nameSub\" => \"Upper-Division Focus\",\"id\" => 36,\"credits\" => 3,\"nameCanonical\" => \"\"), Dict(\"curriculum_requisites\" => Dict{String,Any}[],\"name\" => \" \",\"metrics\" => Dict{String,Any}(\"complexity\" => 1.0,\"centrality\" => 0,\"blocking factor\" => 0,\"delay factor\" => 1.0),\"nameSub\" => \"Emphasis Elective\",\"id\" => 37,\"credits\" => 3,\"nameCanonical\" => \"\"), Dict(\"curriculum_requisites\" => Dict{String,Any}[],\"name\" => \" \",\"metrics\" => Dict{String,Any}(\"complexity\" => 1.0,\"centrality\" => 0,\"blocking factor\" => 0,\"delay factor\" => 1.0),\"nameSub\" => \"Emphasis Elective\",\"id\" => 38,\"credits\" => 3,\"nameCanonical\" => \"\"), Dict(\"curriculum_requisites\" => Dict{String,Any}[],\"name\" => \" \",\"metrics\" => Dict{String,Any}(\"complexity\" => 1.0,\"centrality\" => 0,\"blocking factor\" => 0,\"delay factor\" => 1.0),\"nameSub\" => \"Upper-Division General Elective\",\"id\" => 39,\"credits\" => 3,\"nameCanonical\" => \"\"), Dict(\"curriculum_requisites\" => Dict{String,Any}[],\"name\" => \" \",\"metrics\" => Dict{String,Any}(\"complexity\" => 1.0,\"centrality\" => 0,\"blocking factor\" => 0,\"delay factor\" => 1.0),\"nameSub\" => \"Upper-Division General Elective\",\"id\" => 40,\"credits\" => 3,\"nameCanonical\" => \"\")],\"id\" => 8)],\"institution\" => \"\")), nothing)), Set(String[]), nothing, WebIO.Asset[], Dict{Any,Any}(), WebIO.ConnectionPool(Channel{Any}(sz_max:32,sz_curr:0), Set(WebIO.AbstractConnection[]), Base.GenericCondition{Base.AlwaysLockedST}(Base.InvasiveLinkedList{Task}(Task (runnable) @0x000000013f5de650, Task (runnable) @0x000000013f5de650), Base.AlwaysLockedST(1))), WebIO.JSString[])"
      ]
     },
     "execution_count": 3,
     "metadata": {
      "application/vnd.webio.node+json": {
       "kernelId": "1d6c98f2-1ffe-4b48-9327-016bc5349d9c"
      }
     },
     "output_type": "execute_result"
    }
   ],
   "source": [
    "Neuroscience_and_Cognitive_Science_plan = plans[\"Neuroscience and Cognitive Science\"]\n",
    "visualize(Neuroscience_and_Cognitive_Science_plan, notebook=true)"
   ]
  },
  {
   "cell_type": "code",
   "execution_count": null,
   "metadata": {},
   "outputs": [],
   "source": [
    "Neuroscience_and_Cognitive_Science_Cognition_Emphasis__ISSUE_FILE_plan = plans[\"Neuroscience and Cognitive Science Cognition Emphasis__ISSUE_FILE\"]\n",
    "visualize(Neuroscience_and_Cognitive_Science_Cognition_Emphasis__ISSUE_FILE_plan, notebook=true)"
   ]
  },
  {
   "cell_type": "code",
   "execution_count": null,
   "metadata": {},
   "outputs": [],
   "source": [
    "Neuroscience_and_Cognitive_Science_Computation_Emphasis__ISSUE_FILE_plan = plans[\"Neuroscience and Cognitive Science Computation Emphasis__ISSUE_FILE\"]\n",
    "visualize(Neuroscience_and_Cognitive_Science_Computation_Emphasis__ISSUE_FILE_plan, notebook=true)"
   ]
  },
  {
   "cell_type": "code",
   "execution_count": null,
   "metadata": {},
   "outputs": [],
   "source": [
    "Neuroscience_and_Cognitive_Science_Development_and_Aging_Emphasis__ISSUE_FILE_plan = plans[\"Neuroscience and Cognitive Science Development and Aging Emphasis__ISSUE_FILE\"]\n",
    "visualize(Neuroscience_and_Cognitive_Science_Development_and_Aging_Emphasis__ISSUE_FILE_plan, notebook=true)"
   ]
  },
  {
   "cell_type": "code",
   "execution_count": null,
   "metadata": {},
   "outputs": [],
   "source": [
    "Neuroscience_and_Cognitive_Science_Language_and_Communication_Science_Emphasis_plan = plans[\"Neuroscience and Cognitive Science Language and Communication Science Emphasis\"]\n",
    "visualize(Neuroscience_and_Cognitive_Science_Language_and_Communication_Science_Emphasis_plan, notebook=true)"
   ]
  },
  {
   "cell_type": "code",
   "execution_count": null,
   "metadata": {},
   "outputs": [],
   "source": [
    "Neuroscience_and_Cognitive_Science_Neurobiology_Emphasis__ISSUE_FILE_plan = plans[\"Neuroscience and Cognitive Science Neurobiology Emphasis__ISSUE_FILE\"]\n",
    "visualize(Neuroscience_and_Cognitive_Science_Neurobiology_Emphasis__ISSUE_FILE_plan, notebook=true)"
   ]
  },
  {
   "cell_type": "code",
   "execution_count": null,
   "metadata": {},
   "outputs": [],
   "source": [
    "Neuroscience_and_Cognitive_Science_Philosophy_of_Mind_Emphasis_plan = plans[\"Neuroscience and Cognitive Science Philosophy of Mind Emphasis\"]\n",
    "visualize(Neuroscience_and_Cognitive_Science_Philosophy_of_Mind_Emphasis_plan, notebook=true)"
   ]
  },
  {
   "cell_type": "code",
   "execution_count": null,
   "metadata": {},
   "outputs": [],
   "source": [
    "Physics_plan = plans[\"Physics\"]\n",
    "visualize(Physics_plan, notebook=true)"
   ]
  },
  {
   "cell_type": "code",
   "execution_count": null,
   "metadata": {},
   "outputs": [],
   "source": [
    "Psychological_Science_plan = plans[\"Psychological Science\"]\n",
    "visualize(Psychological_Science_plan, notebook=true)"
   ]
  },
  {
   "cell_type": "code",
   "execution_count": null,
   "metadata": {},
   "outputs": [],
   "source": [
    "Psychology_plan = plans[\"Psychology\"]\n",
    "visualize(Psychology_plan, notebook=true)"
   ]
  },
  {
   "cell_type": "code",
   "execution_count": null,
   "metadata": {},
   "outputs": [],
   "source": [
    "Speech_Language_and_Hearing_Sciences_plan = plans[\"Speech Language and Hearing Sciences\"]\n",
    "visualize(Speech_Language_and_Hearing_Sciences_plan, notebook=true)"
   ]
  },
  {
   "cell_type": "code",
   "execution_count": null,
   "metadata": {},
   "outputs": [],
   "source": [
    "Statistics_and_Data_Science__ISSUE_FILE_plan = plans[\"Statistics and Data Science__ISSUE_FILE\"]\n",
    "visualize(Statistics_and_Data_Science__ISSUE_FILE_plan, notebook=true)"
   ]
  },
  {
   "cell_type": "code",
   "execution_count": null,
   "metadata": {},
   "outputs": [],
   "source": [
    "Statistics_and_Data_Science_plan = plans[\"Statistics and Data Science\"]\n",
    "visualize(Statistics_and_Data_Science_plan, notebook=true)"
   ]
  },
  {
   "cell_type": "markdown",
   "metadata": {},
   "source": [
    "## References\n",
    "<a id='References'></a>\n",
    "\n",
    "[1] Heileman, G. L., Abdallah, C.T., Slim, A., and Hickman, M. (2018). Curricular analytics: A framework for quantifying the impact of curricular reforms and pedagogical innovations. www.arXiv.org, arXiv:1811.09676 [cs.CY].\n",
    "\n",
    "[2] Heileman, G. L., Free, H. W., Abar, O. and Thompson-Arjona, W. G, (2019). CurricularAnalytics.jl Toolbox. https://github.com/heileman/CurricularAnalytics.jl."
   ]
  }
 ],
 "metadata": {
  "@webio": {
   "lastCommId": "c3c4305fa0a5493e86148f5dce5b3946",
   "lastKernelId": "1d6c98f2-1ffe-4b48-9327-016bc5349d9c"
  },
  "kernelspec": {
   "display_name": "Julia 1.3.1",
   "language": "julia",
   "name": "julia-1.3"
  },
  "language_info": {
   "file_extension": ".jl",
   "mimetype": "application/julia",
   "name": "julia",
   "version": "1.3.1"
  }
 },
 "nbformat": 4,
 "nbformat_minor": 4
}
