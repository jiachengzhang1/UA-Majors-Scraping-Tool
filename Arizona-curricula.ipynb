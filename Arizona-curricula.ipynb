{
 "cells": [
  {
   "cell_type": "markdown",
   "metadata": {},
   "source": [
    "# <center>College of Science Curricula - University of Arizona</center>\n",
    "\n",
    "This notebook contains a prelmininary analyses of the curricula and degree plans associatedwith the undergradatue programs in the College of Science at the University of Arizona. In order to execute the analyses provided in this notebook, you need to load the following Julia packages:"
   ]
  },
  {
   "cell_type": "code",
   "execution_count": 1,
   "metadata": {},
   "outputs": [
    {
     "ename": "SyntaxError",
     "evalue": "invalid syntax (<ipython-input-1-578e6d5e9a1a>, line 1)",
     "output_type": "error",
     "traceback": [
      "\u001b[0;36m  File \u001b[0;32m\"<ipython-input-1-578e6d5e9a1a>\"\u001b[0;36m, line \u001b[0;32m1\u001b[0m\n\u001b[0;31m    using CurricularAnalyticsusing Glob\u001b[0m\n\u001b[0m                                 ^\u001b[0m\n\u001b[0;31mSyntaxError\u001b[0m\u001b[0;31m:\u001b[0m invalid syntax\n"
     ]
    }
   ],
   "source": [
    "using CurricularAnalyticsusing Glob\n",
    "using CSV\n",
    "using DataFrames\n",
    "using Statistics"
   ]
  },
  {
   "cell_type": "markdown",
   "metadata": {},
   "source": [
    "## Curricular Analytics Toolbox\n",
    "\n",
    "The analyses in this notebook makes use of the Curricular Analytics toolbox built using the Julia programming language and available as open source software [1]. As a starting point, you may find it useful to read the toolbox documenation, as well as the curricular analytics paper listed in the References section below [2].\n",
    "\n",
    "### Create the Data Structures\n",
    "Degree plans associated with four different disciplines (animal science, mechanical engineering, music education, and psychology) were collected from each of the eleven schools in the cluster. The degree plans were stored as CSV files using the format for degree plans specified in the Curricular Analytics toolbox.  The files are organized in a directory structure that is assumed to be in the same directory as this notebook as follows:  `./programs/<college-name>/`\n",
    "\n",
    "Asuuming the aforementioned directory structure, we first create an dictionay called `plans` containing the degree plans for each of the programs in a given college, in this case the College of Science."
   ]
  },
  {
   "cell_type": "code",
   "execution_count": null,
   "metadata": {},
   "outputs": [],
   "source": [
    "college = \"college_of_science\"\n",
    "plans = Dict{String, DegreePlan}()\n",
    "program_files = glob(\"*\", \"./programs/$college\")\n",
    "for program in program_files\n",
    "    dp = read_csv(program)\n",
    "    complexity(dp.curriculum)  # compute the curricular complexity of the degree plan\n",
    "    plans[dp.curriculum.name] = dp    # store the degree plan the dictionary\n",
    "end\n"
   ]
  },
  {
   "cell_type": "code",
   "execution_count": null,
   "metadata": {},
   "outputs": [],
   "source": [
    "Applied_Physics__ISSUE_FILE_plan = plans[\"Applied Physics__ISSUE_FILE\"]\n",
    "visualize(Applied_Physics__ISSUE_FILE_plan, notebook=true)"
   ]
  },
  {
   "cell_type": "code",
   "execution_count": null,
   "metadata": {},
   "outputs": [],
   "source": [
    "Astronomy_plan = plans[\"Astronomy\"]\n",
    "visualize(Astronomy_plan, notebook=true)"
   ]
  },
  {
   "cell_type": "code",
   "execution_count": null,
   "metadata": {},
   "outputs": [],
   "source": [
    "Biochemistry_plan = plans[\"Biochemistry\"]\n",
    "visualize(Biochemistry_plan, notebook=true)"
   ]
  },
  {
   "cell_type": "code",
   "execution_count": null,
   "metadata": {},
   "outputs": [],
   "source": [
    "Biochemistry_plan = plans[\"Biochemistry\"]\n",
    "visualize(Biochemistry_plan, notebook=true)"
   ]
  },
  {
   "cell_type": "code",
   "execution_count": null,
   "metadata": {},
   "outputs": [],
   "source": [
    "Bioinformatics_Computer_Science_Emphasis_plan = plans[\"Bioinformatics Computer Science Emphasis\"]\n",
    "visualize(Bioinformatics_Computer_Science_Emphasis_plan, notebook=true)"
   ]
  },
  {
   "cell_type": "code",
   "execution_count": null,
   "metadata": {},
   "outputs": [],
   "source": [
    "Bioinformatics_Ecology_and_Evolutionary_Biology_Emphasis_plan = plans[\"Bioinformatics Ecology and Evolutionary Biology Emphasis\"]\n",
    "visualize(Bioinformatics_Ecology_and_Evolutionary_Biology_Emphasis_plan, notebook=true)"
   ]
  },
  {
   "cell_type": "code",
   "execution_count": null,
   "metadata": {},
   "outputs": [],
   "source": [
    "Bioinformatics_Molecular_and_Cellular_Biology_Emphasis_plan = plans[\"Bioinformatics Molecular and Cellular Biology Emphasis\"]\n",
    "visualize(Bioinformatics_Molecular_and_Cellular_Biology_Emphasis_plan, notebook=true)"
   ]
  },
  {
   "cell_type": "code",
   "execution_count": null,
   "metadata": {},
   "outputs": [],
   "source": [
    "Bioinformatics_Systems_Biology_Emphasis_plan = plans[\"Bioinformatics Systems Biology Emphasis\"]\n",
    "visualize(Bioinformatics_Systems_Biology_Emphasis_plan, notebook=true)"
   ]
  },
  {
   "cell_type": "code",
   "execution_count": null,
   "metadata": {},
   "outputs": [],
   "source": [
    "Biology_Biomedical_Sciences_Emphasis_plan = plans[\"Biology Biomedical Sciences Emphasis\"]\n",
    "visualize(Biology_Biomedical_Sciences_Emphasis_plan, notebook=true)"
   ]
  },
  {
   "cell_type": "code",
   "execution_count": null,
   "metadata": {},
   "outputs": [],
   "source": [
    "Biology_Organismal_Biology_Emphasis_plan = plans[\"Biology Organismal Biology Emphasis\"]\n",
    "visualize(Biology_Organismal_Biology_Emphasis_plan, notebook=true)"
   ]
  },
  {
   "cell_type": "code",
   "execution_count": null,
   "metadata": {},
   "outputs": [],
   "source": [
    "Chemistry_plan = plans[\"Chemistry\"]\n",
    "visualize(Chemistry_plan, notebook=true)"
   ]
  },
  {
   "cell_type": "code",
   "execution_count": null,
   "metadata": {},
   "outputs": [],
   "source": [
    "Chemistry_plan = plans[\"Chemistry\"]\n",
    "visualize(Chemistry_plan, notebook=true)"
   ]
  },
  {
   "cell_type": "code",
   "execution_count": null,
   "metadata": {},
   "outputs": [],
   "source": [
    "Computer_Science_plan = plans[\"Computer Science\"]\n",
    "visualize(Computer_Science_plan, notebook=true)"
   ]
  },
  {
   "cell_type": "code",
   "execution_count": null,
   "metadata": {},
   "outputs": [],
   "source": [
    "Computer_Science_plan = plans[\"Computer Science\"]\n",
    "visualize(Computer_Science_plan, notebook=true)"
   ]
  },
  {
   "cell_type": "code",
   "execution_count": null,
   "metadata": {},
   "outputs": [],
   "source": [
    "Ecology_and_Evolutionary_Biology_plan = plans[\"Ecology and Evolutionary Biology\"]\n",
    "visualize(Ecology_and_Evolutionary_Biology_plan, notebook=true)"
   ]
  },
  {
   "cell_type": "code",
   "execution_count": null,
   "metadata": {},
   "outputs": [],
   "source": [
    "Ecology_and_Evolutionary_Biology_plan = plans[\"Ecology and Evolutionary Biology\"]\n",
    "visualize(Ecology_and_Evolutionary_Biology_plan, notebook=true)"
   ]
  },
  {
   "cell_type": "code",
   "execution_count": null,
   "metadata": {},
   "outputs": [],
   "source": [
    "Geosciences_Earth_Ocean_and_Climate_Emphasis_plan = plans[\"Geosciences Earth Ocean and Climate Emphasis\"]\n",
    "visualize(Geosciences_Earth_Ocean_and_Climate_Emphasis_plan, notebook=true)"
   ]
  },
  {
   "cell_type": "code",
   "execution_count": null,
   "metadata": {},
   "outputs": [],
   "source": [
    "Geosciences_Geology_Emphasis_plan = plans[\"Geosciences Geology Emphasis\"]\n",
    "visualize(Geosciences_Geology_Emphasis_plan, notebook=true)"
   ]
  },
  {
   "cell_type": "code",
   "execution_count": null,
   "metadata": {},
   "outputs": [],
   "source": [
    "Geosciences_Geophysics_Emphasis_plan = plans[\"Geosciences Geophysics Emphasis\"]\n",
    "visualize(Geosciences_Geophysics_Emphasis_plan, notebook=true)"
   ]
  },
  {
   "cell_type": "code",
   "execution_count": null,
   "metadata": {},
   "outputs": [],
   "source": [
    "Hydrology_and_Atmospheric_Sciences_Atmospheric_Sciences_Emphasis__ISSUE_FILE_plan = plans[\"Hydrology and Atmospheric Sciences Atmospheric Sciences Emphasis__ISSUE_FILE\"]\n",
    "visualize(Hydrology_and_Atmospheric_Sciences_Atmospheric_Sciences_Emphasis__ISSUE_FILE_plan, notebook=true)"
   ]
  },
  {
   "cell_type": "code",
   "execution_count": null,
   "metadata": {},
   "outputs": [],
   "source": [
    "Hydrology_and_Atmospheric_Sciences_Environmental_Hydrology_and_Water_Resources_Emphasis_plan = plans[\"Hydrology and Atmospheric Sciences Environmental Hydrology and Water Resources Emphasis\"]\n",
    "visualize(Hydrology_and_Atmospheric_Sciences_Environmental_Hydrology_and_Water_Resources_Emphasis_plan, notebook=true)"
   ]
  },
  {
   "cell_type": "code",
   "execution_count": null,
   "metadata": {},
   "outputs": [],
   "source": [
    "Mathematics_Applied_Emphasis_plan = plans[\"Mathematics Applied Emphasis\"]\n",
    "visualize(Mathematics_Applied_Emphasis_plan, notebook=true)"
   ]
  },
  {
   "cell_type": "code",
   "execution_count": null,
   "metadata": {},
   "outputs": [],
   "source": [
    "Mathematics_Applied_Emphasis_plan = plans[\"Mathematics Applied Emphasis\"]\n",
    "visualize(Mathematics_Applied_Emphasis_plan, notebook=true)"
   ]
  },
  {
   "cell_type": "code",
   "execution_count": null,
   "metadata": {},
   "outputs": [],
   "source": [
    "Mathematics_Comprehensive_Emphasis_plan = plans[\"Mathematics Comprehensive Emphasis\"]\n",
    "visualize(Mathematics_Comprehensive_Emphasis_plan, notebook=true)"
   ]
  },
  {
   "cell_type": "code",
   "execution_count": null,
   "metadata": {},
   "outputs": [],
   "source": [
    "Mathematics_Comprehensive_Emphasis_plan = plans[\"Mathematics Comprehensive Emphasis\"]\n",
    "visualize(Mathematics_Comprehensive_Emphasis_plan, notebook=true)"
   ]
  },
  {
   "cell_type": "code",
   "execution_count": null,
   "metadata": {},
   "outputs": [],
   "source": [
    "Mathematics_Computer_Science_Emphasis_plan = plans[\"Mathematics Computer Science Emphasis\"]\n",
    "visualize(Mathematics_Computer_Science_Emphasis_plan, notebook=true)"
   ]
  },
  {
   "cell_type": "code",
   "execution_count": null,
   "metadata": {},
   "outputs": [],
   "source": [
    "Mathematics_Computer_Science_Emphasis_plan = plans[\"Mathematics Computer Science Emphasis\"]\n",
    "visualize(Mathematics_Computer_Science_Emphasis_plan, notebook=true)"
   ]
  },
  {
   "cell_type": "code",
   "execution_count": null,
   "metadata": {},
   "outputs": [],
   "source": [
    "Mathematics_Economics_and_Business_Emphasis_plan = plans[\"Mathematics Economics and Business Emphasis\"]\n",
    "visualize(Mathematics_Economics_and_Business_Emphasis_plan, notebook=true)"
   ]
  },
  {
   "cell_type": "code",
   "execution_count": null,
   "metadata": {},
   "outputs": [],
   "source": [
    "Mathematics_Economics_and_Business_Emphasis_plan = plans[\"Mathematics Economics and Business Emphasis\"]\n",
    "visualize(Mathematics_Economics_and_Business_Emphasis_plan, notebook=true)"
   ]
  },
  {
   "cell_type": "code",
   "execution_count": null,
   "metadata": {},
   "outputs": [],
   "source": [
    "Mathematics_Education_Emphasis_plan = plans[\"Mathematics Education Emphasis\"]\n",
    "visualize(Mathematics_Education_Emphasis_plan, notebook=true)"
   ]
  },
  {
   "cell_type": "code",
   "execution_count": null,
   "metadata": {},
   "outputs": [],
   "source": [
    "Mathematics_Education_Emphasis_plan = plans[\"Mathematics Education Emphasis\"]\n",
    "visualize(Mathematics_Education_Emphasis_plan, notebook=true)"
   ]
  },
  {
   "cell_type": "code",
   "execution_count": null,
   "metadata": {},
   "outputs": [],
   "source": [
    "Mathematics_Life_Sciences_Emphasis_plan = plans[\"Mathematics Life Sciences Emphasis\"]\n",
    "visualize(Mathematics_Life_Sciences_Emphasis_plan, notebook=true)"
   ]
  },
  {
   "cell_type": "code",
   "execution_count": null,
   "metadata": {},
   "outputs": [],
   "source": [
    "Mathematics_Life_Sciences_Emphasis_plan = plans[\"Mathematics Life Sciences Emphasis\"]\n",
    "visualize(Mathematics_Life_Sciences_Emphasis_plan, notebook=true)"
   ]
  },
  {
   "cell_type": "code",
   "execution_count": null,
   "metadata": {},
   "outputs": [],
   "source": [
    "Mathematics_Probability_and_Statistics_Emphasis_plan = plans[\"Mathematics Probability and Statistics Emphasis\"]\n",
    "visualize(Mathematics_Probability_and_Statistics_Emphasis_plan, notebook=true)"
   ]
  },
  {
   "cell_type": "code",
   "execution_count": null,
   "metadata": {},
   "outputs": [],
   "source": [
    "Mathematics_Probability_and_Statistics_Emphasis_plan = plans[\"Mathematics Probability and Statistics Emphasis\"]\n",
    "visualize(Mathematics_Probability_and_Statistics_Emphasis_plan, notebook=true)"
   ]
  },
  {
   "cell_type": "code",
   "execution_count": null,
   "metadata": {},
   "outputs": [],
   "source": [
    "Molecular_and_Cellular_Biology_plan = plans[\"Molecular and Cellular Biology\"]\n",
    "visualize(Molecular_and_Cellular_Biology_plan, notebook=true)"
   ]
  },
  {
   "cell_type": "code",
   "execution_count": null,
   "metadata": {},
   "outputs": [],
   "source": [
    "Molecular_and_Cellular_Biology_Education_and_Communication_Emphasis_plan = plans[\"Molecular and Cellular Biology Education and Communication Emphasis\"]\n",
    "visualize(Molecular_and_Cellular_Biology_Education_and_Communication_Emphasis_plan, notebook=true)"
   ]
  },
  {
   "cell_type": "code",
   "execution_count": null,
   "metadata": {},
   "outputs": [],
   "source": [
    "Molecular_and_Cellular_Biology_Genetics_and_Human_Health_Emphasis__ISSUE_FILE_plan = plans[\"Molecular and Cellular Biology Genetics and Human Health Emphasis__ISSUE_FILE\"]\n",
    "visualize(Molecular_and_Cellular_Biology_Genetics_and_Human_Health_Emphasis__ISSUE_FILE_plan, notebook=true)"
   ]
  },
  {
   "cell_type": "code",
   "execution_count": null,
   "metadata": {},
   "outputs": [],
   "source": [
    "Molecular_and_Cellular_Biology_Systems_and_Big_Data_Biology_Emphasis__ISSUE_FILE_plan = plans[\"Molecular and Cellular Biology Systems and Big Data Biology Emphasis__ISSUE_FILE\"]\n",
    "visualize(Molecular_and_Cellular_Biology_Systems_and_Big_Data_Biology_Emphasis__ISSUE_FILE_plan, notebook=true)"
   ]
  },
  {
   "cell_type": "code",
   "execution_count": null,
   "metadata": {},
   "outputs": [],
   "source": [
    "Neuroscience_and_Cognitive_Science_plan = plans[\"Neuroscience and Cognitive Science\"]\n",
    "visualize(Neuroscience_and_Cognitive_Science_plan, notebook=true)"
   ]
  },
  {
   "cell_type": "code",
   "execution_count": null,
   "metadata": {},
   "outputs": [],
   "source": [
    "Neuroscience_and_Cognitive_Science_Cognition_Emphasis__ISSUE_FILE_plan = plans[\"Neuroscience and Cognitive Science Cognition Emphasis__ISSUE_FILE\"]\n",
    "visualize(Neuroscience_and_Cognitive_Science_Cognition_Emphasis__ISSUE_FILE_plan, notebook=true)"
   ]
  },
  {
   "cell_type": "code",
   "execution_count": null,
   "metadata": {},
   "outputs": [],
   "source": [
    "Neuroscience_and_Cognitive_Science_Computation_Emphasis__ISSUE_FILE_plan = plans[\"Neuroscience and Cognitive Science Computation Emphasis__ISSUE_FILE\"]\n",
    "visualize(Neuroscience_and_Cognitive_Science_Computation_Emphasis__ISSUE_FILE_plan, notebook=true)"
   ]
  },
  {
   "cell_type": "code",
   "execution_count": null,
   "metadata": {},
   "outputs": [],
   "source": [
    "Neuroscience_and_Cognitive_Science_Development_and_Aging_Emphasis__ISSUE_FILE_plan = plans[\"Neuroscience and Cognitive Science Development and Aging Emphasis__ISSUE_FILE\"]\n",
    "visualize(Neuroscience_and_Cognitive_Science_Development_and_Aging_Emphasis__ISSUE_FILE_plan, notebook=true)"
   ]
  },
  {
   "cell_type": "code",
   "execution_count": null,
   "metadata": {},
   "outputs": [],
   "source": [
    "Neuroscience_and_Cognitive_Science_Language_and_Communication_Science_Emphasis_plan = plans[\"Neuroscience and Cognitive Science Language and Communication Science Emphasis\"]\n",
    "visualize(Neuroscience_and_Cognitive_Science_Language_and_Communication_Science_Emphasis_plan, notebook=true)"
   ]
  },
  {
   "cell_type": "code",
   "execution_count": null,
   "metadata": {},
   "outputs": [],
   "source": [
    "Neuroscience_and_Cognitive_Science_Neurobiology_Emphasis__ISSUE_FILE_plan = plans[\"Neuroscience and Cognitive Science Neurobiology Emphasis__ISSUE_FILE\"]\n",
    "visualize(Neuroscience_and_Cognitive_Science_Neurobiology_Emphasis__ISSUE_FILE_plan, notebook=true)"
   ]
  },
  {
   "cell_type": "code",
   "execution_count": null,
   "metadata": {},
   "outputs": [],
   "source": [
    "Neuroscience_and_Cognitive_Science_Philosophy_of_Mind_Emphasis_plan = plans[\"Neuroscience and Cognitive Science Philosophy of Mind Emphasis\"]\n",
    "visualize(Neuroscience_and_Cognitive_Science_Philosophy_of_Mind_Emphasis_plan, notebook=true)"
   ]
  },
  {
   "cell_type": "code",
   "execution_count": null,
   "metadata": {},
   "outputs": [],
   "source": [
    "Physics_plan = plans[\"Physics\"]\n",
    "visualize(Physics_plan, notebook=true)"
   ]
  },
  {
   "cell_type": "code",
   "execution_count": null,
   "metadata": {},
   "outputs": [],
   "source": [
    "Psychological_Science_plan = plans[\"Psychological Science\"]\n",
    "visualize(Psychological_Science_plan, notebook=true)"
   ]
  },
  {
   "cell_type": "code",
   "execution_count": null,
   "metadata": {},
   "outputs": [],
   "source": [
    "Psychology_plan = plans[\"Psychology\"]\n",
    "visualize(Psychology_plan, notebook=true)"
   ]
  },
  {
   "cell_type": "code",
   "execution_count": null,
   "metadata": {},
   "outputs": [],
   "source": [
    "Speech_Language_and_Hearing_Sciences_plan = plans[\"Speech Language and Hearing Sciences\"]\n",
    "visualize(Speech_Language_and_Hearing_Sciences_plan, notebook=true)"
   ]
  },
  {
   "cell_type": "code",
   "execution_count": null,
   "metadata": {},
   "outputs": [],
   "source": [
    "Statistics_and_Data_Science__ISSUE_FILE_plan = plans[\"Statistics and Data Science__ISSUE_FILE\"]\n",
    "visualize(Statistics_and_Data_Science__ISSUE_FILE_plan, notebook=true)"
   ]
  },
  {
   "cell_type": "code",
   "execution_count": null,
   "metadata": {},
   "outputs": [],
   "source": [
    "Statistics_and_Data_Science_plan = plans[\"Statistics and Data Science\"]\n",
    "visualize(Statistics_and_Data_Science_plan, notebook=true)"
   ]
  },
  {
   "cell_type": "markdown",
   "metadata": {},
   "source": [
    "## References\n",
    "<a id='References'></a>\n",
    "\n",
    "[1] Heileman, G. L., Abdallah, C.T., Slim, A., and Hickman, M. (2018). Curricular analytics: A framework for quantifying the impact of curricular reforms and pedagogical innovations. www.arXiv.org, arXiv:1811.09676 [cs.CY].\n",
    "\n",
    "[2] Heileman, G. L., Free, H. W., Abar, O. and Thompson-Arjona, W. G, (2019). CurricularAnalytics.jl Toolbox. https://github.com/heileman/CurricularAnalytics.jl."
   ]
  }
 ],
 "metadata": {
  "kernelspec": {
   "display_name": "Python 3",
   "language": "python",
   "name": "python3"
  },
  "language_info": {
   "codemirror_mode": {
    "name": "ipython",
    "version": 3
   },
   "file_extension": ".py",
   "mimetype": "text/x-python",
   "name": "python",
   "nbconvert_exporter": "python",
   "pygments_lexer": "ipython3",
   "version": "3.7.4"
  }
 },
 "nbformat": 4,
 "nbformat_minor": 4
}
